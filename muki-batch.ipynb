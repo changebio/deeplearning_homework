{
 "cells": [
  {
   "cell_type": "code",
   "execution_count": 1,
   "metadata": {
    "collapsed": false
   },
   "outputs": [],
   "source": [
    "%matplotlib inline\n",
    "\n",
    "import matplotlib.pyplot as plt\n",
    "import matplotlib.image as mpimg\n",
    "import numpy as np\n",
    "\n",
    "import theano.tensor as T\n",
    "import theano\n",
    "from itertools import izip\n",
    "import random\n",
    "from random import shuffle\n"
   ]
  },
  {
   "cell_type": "markdown",
   "metadata": {},
   "source": [
    "## 讀取 Miku"
   ]
  },
  {
   "cell_type": "code",
   "execution_count": 2,
   "metadata": {
    "collapsed": false
   },
   "outputs": [],
   "source": [
    "img_count = 0\n",
    "def showimg(img):\n",
    "    muki_pr = np.zeros((500,500,3))\n",
    "    l =img.tolist()\n",
    "    count = 0\n",
    "    for x in range(500):\n",
    "        for y in range(500):\n",
    "            muki_pr[y][x] = l[count]\n",
    "            count += 1\n",
    "    plt.imshow(muki_pr)\n",
    "def saveimg(fname,img):\n",
    "    muki_pr = np.zeros((500,500,3))\n",
    "    l =img.tolist()\n",
    "    count = 0\n",
    "    for x in range(500):\n",
    "        for y in range(500):\n",
    "            muki_pr[y][x] = l[count]\n",
    "            count += 1\n",
    "    plt.imsave(fname,muki_pr)"
   ]
  },
  {
   "cell_type": "code",
   "execution_count": 3,
   "metadata": {
    "collapsed": false
   },
   "outputs": [
    {
     "data": {
      "image/png": "[encoded data removed]",
      "text/plain": [
       "<matplotlib.figure.Figure at 0x10461be90>"
      ]
     },
     "metadata": {},
     "output_type": "display_data"
    }
   ],
   "source": [
    "def read_muki():\n",
    "    img_data = np.random.randn(250000,1)\n",
    "    xy_data = []\n",
    "    import random\n",
    "\n",
    "    f = open('./muki.txt','rb')\n",
    "    count = 0\n",
    "    for line in f:\n",
    "        y,x,c = line.split()\n",
    "        xy_data.append([float(x),float(y)])\n",
    "        x = (float(x) )*100. + 250\n",
    "        y = (float(y) )*100. + 250\n",
    "        c = float(c)\n",
    "\n",
    "        img_data[count] = c\n",
    "        \n",
    "        count = count + 1\n",
    "    return np.matrix(xy_data),img_data\n",
    "\n",
    "xy_data,img_data = read_muki()    \n",
    "showimg(img_data)\n"
   ]
  },
  {
   "cell_type": "code",
   "execution_count": 4,
   "metadata": {
    "collapsed": false
   },
   "outputs": [
    {
     "name": "stdout",
     "output_type": "stream",
     "text": [
      "[[-2.5  -2.5 ]\n",
      " [-2.49 -2.5 ]\n",
      " [-2.48 -2.5 ]\n",
      " [-2.47 -2.5 ]\n",
      " [-2.46 -2.5 ]\n",
      " [-2.45 -2.5 ]\n",
      " [-2.44 -2.5 ]\n",
      " [-2.43 -2.5 ]\n",
      " [-2.42 -2.5 ]\n",
      " [-2.41 -2.5 ]]\n",
      "[[ 0.]\n",
      " [ 0.]\n",
      " [ 0.]\n",
      " [ 0.]\n",
      " [ 0.]\n",
      " [ 0.]\n",
      " [ 0.]\n",
      " [ 0.]\n",
      " [ 0.]\n",
      " [ 0.]]\n"
     ]
    }
   ],
   "source": [
    "print xy_data[:10]\n",
    "print img_data[:10]"
   ]
  },
  {
   "cell_type": "markdown",
   "metadata": {},
   "source": [
    "## Muki NN\n",
    "<img width=500px src='./muki_nn.png' />"
   ]
  },
  {
   "cell_type": "code",
   "execution_count": 5,
   "metadata": {
    "collapsed": true
   },
   "outputs": [],
   "source": [
    "batch_size = 500\n",
    "hidden_size = 128"
   ]
  },
  {
   "cell_type": "code",
   "execution_count": 6,
   "metadata": {
    "collapsed": false
   },
   "outputs": [],
   "source": [
    "x = T.matrix(name='x',dtype='float32') # size =2\n",
    "y = T.matrix(name='x',dtype='float32') # size =1\n",
    "\n",
    "\n",
    "w1 = theano.shared(np.random.randn(hidden_size,2))\n",
    "b1 = theano.shared(np.random.randn(hidden_size))\n",
    "w2 = theano.shared(np.random.randn(1,hidden_size))\n",
    "b2 = theano.shared(np.random.randn(1))"
   ]
  },
  {
   "cell_type": "markdown",
   "metadata": {},
   "source": [
    "## 第一層"
   ]
  },
  {
   "cell_type": "code",
   "execution_count": 7,
   "metadata": {
    "collapsed": false
   },
   "outputs": [],
   "source": [
    "z1 = T.dot(w1,x) + b1.dimshuffle(0,'x')\n",
    "a1 = 1/(1+T.exp(-z1))"
   ]
  },
  {
   "cell_type": "code",
   "execution_count": 8,
   "metadata": {
    "collapsed": false
   },
   "outputs": [],
   "source": [
    "fa1 = theano.function(inputs=[x],outputs=[a1],allow_input_downcast=True)\n",
    "l1_o= fa1(np.random.randn(2,batch_size))\n"
   ]
  },
  {
   "cell_type": "code",
   "execution_count": 9,
   "metadata": {
    "collapsed": false
   },
   "outputs": [],
   "source": [
    "l1_o= fa1(xy_data[:500].T)"
   ]
  },
  {
   "cell_type": "markdown",
   "metadata": {},
   "source": [
    "## 第二層"
   ]
  },
  {
   "cell_type": "code",
   "execution_count": 10,
   "metadata": {
    "collapsed": true
   },
   "outputs": [],
   "source": [
    "z2 = T.dot(w2,a1) + b2.dimshuffle(0,'x')\n",
    "a2 = 1/(1+T.exp(-z2))"
   ]
  },
  {
   "cell_type": "code",
   "execution_count": 11,
   "metadata": {
    "collapsed": true
   },
   "outputs": [],
   "source": [
    "fa2 = theano.function(inputs=[x],outputs=[a2],allow_input_downcast=True)"
   ]
  },
  {
   "cell_type": "code",
   "execution_count": 12,
   "metadata": {
    "collapsed": false
   },
   "outputs": [],
   "source": [
    "l2_o = fa2(np.random.randn(2,batch_size))"
   ]
  },
  {
   "cell_type": "code",
   "execution_count": 13,
   "metadata": {
    "collapsed": false
   },
   "outputs": [
    {
     "name": "stdout",
     "output_type": "stream",
     "text": [
      "(1, 500)\n"
     ]
    }
   ],
   "source": [
    "l2_o= fa2(xy_data[:500].T)\n",
    "print l2_o[0].shape"
   ]
  },
  {
   "cell_type": "markdown",
   "metadata": {},
   "source": [
    "## 第三層下次吧，電腦太慢了懶的跑了　"
   ]
  },
  {
   "cell_type": "markdown",
   "metadata": {},
   "source": [
    "## 定義 Cost Function & Update Function"
   ]
  },
  {
   "cell_type": "code",
   "execution_count": 14,
   "metadata": {
    "collapsed": true
   },
   "outputs": [],
   "source": [
    "y_hat = T.matrix('reference',dtype='float32')\n",
    "cost = T.sum((a2-y_hat)**2)/batch_size"
   ]
  },
  {
   "cell_type": "code",
   "execution_count": 15,
   "metadata": {
    "collapsed": false
   },
   "outputs": [],
   "source": [
    "dw1,dw2,db1,db2 = T.grad(cost,[w1,w2,b1,b2])\n",
    "\n",
    "def Myupdates(ps,gs):\n",
    "    from itertools import izip\n",
    " \n",
    "    r = 1\n",
    "    pu = [ (p,p-r*g) for p,g in izip(ps,gs)   ]\n",
    "    return pu"
   ]
  },
  {
   "cell_type": "code",
   "execution_count": 16,
   "metadata": {
    "collapsed": false
   },
   "outputs": [],
   "source": [
    "train = theano.function(inputs=[x,y_hat],\n",
    "                        outputs=[a2,cost],\n",
    "                        updates=Myupdates([w1,b1,w2,b2],[dw1,db1,dw2,db2]),\n",
    "                        allow_input_downcast=True,)"
   ]
  },
  {
   "cell_type": "markdown",
   "metadata": {},
   "source": [
    "## Training"
   ]
  },
  {
   "cell_type": "code",
   "execution_count": 17,
   "metadata": {
    "collapsed": false
   },
   "outputs": [],
   "source": [
    "\n",
    "def training(xy_data,img_data):\n",
    "    for ii in range(1000):\n",
    "        for i in range(500):\n",
    "\n",
    "            start = i * 500 \n",
    "            end  = start + 500\n",
    "            img_predict,cost_predict = train(xy_data[start:end].T,img_data[start:end].T)\n",
    "\n",
    "        if ii % 10 == 0:\n",
    "            saveimg('./imgs/muki_'+ str(ii) +'.png', fa2(xy_data.T)[0].T)\n",
    "        print cost_predict,"
   ]
  },
  {
   "cell_type": "code",
   "execution_count": 18,
   "metadata": {
    "collapsed": false
   },
   "outputs": [
    {
     "name": "stdout",
     "output_type": "stream",
     "text": [
      "3.68922202807e-05 1.15600810038e-05 8.87783956542e-06 7.58236531873e-06 6.76803229779e-06 6.05372690517e-06 5.45166879955e-06 5.04053937106e-06 4.95409211863e-06 5.01633538045e-06 5.0670913027e-06 5.5908265385e-06 6.24761722955e-06 7.11263578722e-06 8.14213325491e-06 9.33796990244e-06 1.07025899435e-05 1.00929451679e-05 1.14624110985e-05 1.09105704786e-05 1.02575543805e-05 9.67448778786e-06 9.12718978355e-06 8.5977823963e-06 8.08459839463e-06 7.58921849736e-06 7.10028231849e-06 6.60279846303e-06 6.09868949193e-06 5.58799918492e-06 5.06407679325e-06 4.53065749198e-06 4.00033750716e-06 3.48831555668e-06 3.01420332735e-06 2.62586258298e-06 2.30455603939e-06 1.95853576703e-06 1.60366623901e-06 1.55701214989e-06 1.2677478909e-06 5.82396374676e-07 4.68192789628e-07 4.06235793857e-07 3.25995959408e-07 2.56180776753e-07 1.99377439333e-07 1.57276060036e-07 9.08657961363e-08 6.89014608075e-08 4.09134412444e-08 3.43300165275e-08 1.99747141551e-08 1.34790134256e-08 9.38337906922e-09 6.63804470947e-09 4.83827942586e-09 3.60685165678e-09 2.74187193706e-09 2.11894140076e-09 1.66035129427e-09 1.31560089204e-09 1.05142767374e-09 8.45689169245e-10 6.83327794585e-10 5.53880229818e-10 4.49926498212e-10 3.66058366068e-10 2.98199483932e-10 2.43192962218e-10 1.98545778191e-10 1.62269938032e-10 1.32773529564e-10 1.0877806756e-10 8.92532750126e-11 7.33650013881e-11 6.04345203095e-11 4.99077280512e-11 4.1331947265e-11 3.43379274129e-11 2.86252869027e-11 2.39503992611e-11 2.01162160147e-11 1.6963736604e-11 1.4364902077e-11 1.22167051528e-11 1.04363267445e-11 8.95714378751e-12 7.72549453959e-12 6.69811156627e-12 5.84012386342e-12 5.12350748546e-12 4.52590317962e-12 4.02990080474e-12 3.62309218517e-12 3.29903049715e-12 3.06177547991e-12 2.96310743381e-12 3.57608439978e-12 3.95934144036e-12 3.99025879848e-12 3.97300508885e-12 3.9594900471e-12 3.96691188067e-12 4.06579899454e-12 4.22925690287e-12 4.45061546071e-12 4.77153310385e-12 5.28061783801e-12 5.85649765725e-12 6.54406479545e-12 7.31065933549e-12 8.05171283181e-12 8.83442624957e-12 9.60067371414e-12 1.03814009436e-11 1.12650910396e-11 1.22889431293e-11 1.34589327672e-11 1.48024284799e-11 1.6377352053e-11 1.82347403317e-11 2.03919462566e-11 2.28288442915e-11 2.54926892483e-11 2.83055894744e-11 3.11716747205e-11 3.3980840073e-11 3.6608838213e-11 3.89154489754e-11 4.07420132199e-11 4.19099267461e-11 4.22260596206e-11 4.15234783603e-11 3.98131942186e-11 3.75900438565e-11 3.5622317417e-11 3.39485158621e-11 3.24920982563e-11 3.10298131159e-11 2.90896098619e-11 2.66270311693e-11 2.4395687138e-11 2.22266850571e-11 2.00629056801e-11 1.80739253215e-11 1.66336234052e-11 1.54330624459e-11 1.40604777378e-11 1.25253147963e-11 1.10340509019e-11 9.66842601536e-12 8.34074600533e-12 7.07650287483e-12 6.2082540524e-12 5.00641602883e-12 4.33909404935e-12 3.26920894702e-12 2.83492064022e-12 2.1871112635e-12 1.80661688297e-12 1.52456613535e-12 1.31277949546e-12 1.1357325745e-12 8.98656298369e-13 7.36962069564e-13 6.2490086975e-13 5.39149858202e-13 4.67721530668e-13 3.95820907111e-13 3.38928634422e-13 2.91577524468e-13 2.55647079163e-13 2.26980841809e-13 2.02585570882e-13 1.80933831901e-13 1.61729147028e-13 1.45147370716e-13 1.30623178951e-13 1.18090880121e-13 1.07009409448e-13 1.00413162016e-13 8.71508270048e-14 7.59437125395e-14 6.71292797954e-14 5.99454836289e-14 5.41314931498e-14 4.9587921081e-14 4.61748490977e-14 4.37762895077e-14 4.2324406699e-14 4.19247697465e-14 4.24147388532e-14 5.19485751139e-14 5.17584214972e-14 5.12975100528e-14 5.05486603229e-14 4.97714720346e-14 4.98736768447e-14 5.01042608343e-14 5.07116466128e-14 5.18135912986e-14 5.33113662682e-14 5.49178995767e-14 5.6338783858e-14 5.73332316786e-14 5.75396863439e-14 5.64206286048e-14 5.35215275222e-14 4.90345613823e-14 4.43892360574e-14 4.19217742975e-14 4.30227933711e-14 4.66428040381e-14 5.08461267034e-14 5.47962440933e-14 5.8466929629e-14 6.20052542701e-14 6.55607002297e-14 6.92941927678e-14 7.33851219248e-14 7.80037314285e-14 8.32663570786e-14 8.91930482753e-14 9.56808921006e-14 1.02501361179e-13 1.09324313182e-13 1.15763928582e-13 1.21435133458e-13 1.26006246641e-13 1.29236173785e-13 1.30990888502e-13 1.31240779018e-13 1.30044740274e-13 1.27527850326e-13 1.23858071473e-13 1.19225381088e-13 1.13825020551e-13 1.07845445941e-13 1.01460829944e-13 9.48273965645e-14 8.80824827411e-14 8.13451229355e-14 7.47171300666e-14 6.82840757325e-14 6.21159948421e-14 5.6267936145e-14 5.07805807891e-14 4.56811042784e-14 4.09843462796e-14 3.66942597907e-14 3.28055416623e-14 2.93053332793e-14 2.61748893074e-14 2.3391142874e-14 2.09281332025e-14 1.87582906727e-14 1.68535906746e-14 1.5186579097e-14 1.37312492882e-14 1.24637318528e-14 1.13627643252e-14 1.04099436759e-14 9.58980893878e-15 8.88983181397e-15 8.30040144375e-15 7.81488382526e-15 7.42983371071e-15 7.14544784204e-15 6.96638223502e-15 6.90312438605e-15 6.97423261983e-15 7.20996852242e-15 7.65822481926e-15 8.39431855349e-15 9.53741144392e-15 1.12784525508e-14 1.39283540741e-14 1.80018916228e-14 2.43647239924e-14 3.44914197788e-14 5.09167906623e-14 7.8019175777e-14 1.2336514075e-13 1.99991749804e-13 3.30240625944e-13 5.5212162812e-13 9.2959748949e-13 1.56817447638e-12 2.63574751736e-12 4.38554624958e-12 7.17682990302e-12 1.14948892882e-11 1.79798994325e-11 2.74710508959e-11 4.10609573039e-11 6.01505995974e-11 8.64979068236e-11 1.2225475948e-10 1.69985488126e-10 2.32657887704e-10 3.13597692523e-10 4.16399739033e-10 5.44793119486e-10 7.02462587099e-10 8.9283331657e-10 1.11882994879e-09 1.38262302598e-09 1.68537636661e-09 2.02700803566e-09 2.40597609859e-09 2.81909915398e-09 3.26142096827e-09 3.72612805497e-09 4.20452793194e-09 4.68609421236e-09 5.15858473188e-09 5.60824583051e-09 6.02013366188e-09 6.37860980382e-09 6.66809024273e-09 6.87412188256e-09 6.98481138429e-09 6.99253924308e-09 6.89577336211e-09 6.70064658703e-09 6.42177132002e-09 6.08166318611e-09 5.70842623352e-09 5.33205988052e-09 4.9804694143e-09 4.67651368557e-09 4.43696350171e-09 4.2733093249e-09 4.19361442968e-09 4.20449917807e-09 4.31272212615e-09 4.52625539204e-09 4.8549807054e-09 5.31120336387e-09 5.90997629354e-09 6.66884689054e-09 7.60693559441e-09 8.74396500518e-09 1.00994814587e-08 1.16914413433e-08 1.35335719489e-08 1.56323861305e-08 1.79850198895e-08 2.05777216868e-08 2.33841657641e-08 2.63640765663e-08 2.94635900995e-08 3.26173884024e-08 3.57520402729e-08 3.87919628366e-08 4.1668375079e-08 4.43243582006e-08 4.67053737473e-08 4.87398634516e-08 5.03423766937e-08 5.14619921886e-08 5.21237561794e-08 5.2339158943e-08 5.19356540975e-08 5.06969674097e-08 4.85947293288e-08 4.58688645308e-08 4.37111097316e-08 4.2746514112e-08 4.20109762206e-08 4.08853432563e-08 3.99107839073e-08 3.90689790949e-08 3.93098530597e-08 4.09883547172e-08 4.09651298705e-08 4.63505258748e-08 4.90308445697e-08 5.05783555394e-08 5.64215088933e-08 6.37664319019e-08 7.37402042262e-08 8.52589571186e-08 9.82093248796e-08 1.12626545806e-07 1.29638548431e-07 1.50639081084e-07 1.74859886354e-07 2.06809574844e-07 2.45895976337e-07 2.94252505044e-07 3.54646970192e-07 4.31365409264e-07 5.30681189101e-07 6.59269760764e-07 8.25162982751e-07 1.03859691952e-06 1.31212828739e-06 1.66065174542e-06 2.1006528296e-06 2.64843332966e-06 3.31724661719e-06 4.11360757773e-06 5.03350327497e-06 6.0596572587e-06 7.16107106698e-06 8.29556226983e-06 9.41504541093e-06 1.04722929157e-05 1.14273760457e-05 1.22521808249e-05 1.29321775851e-05 1.34655690021e-05 1.38606262688e-05 1.41322562901e-05 1.42986873158e-05 1.43788105476e-05 1.43903648706e-05 1.43489095084e-05 1.42674151e-05 1.41562772639e-05 1.40235786788e-05 1.38754644625e-05 1.37165397606e-05 1.35502364325e-05 1.33791238913e-05 1.32051573511e-05 1.30298665588e-05 1.28544932442e-05 1.26800863678e-05 1.2507565112e-05 1.2337757707e-05 1.21714228251e-05 1.20092599057e-05 1.18519121549e-05 1.16999660386e-05 1.15539493161e-05 1.14143286489e-05 1.12815082387e-05 1.11558290851e-05 1.10375693554e-05 1.09269455847e-05 1.08241142554e-05 1.07291740546e-05 1.06421680165e-05 1.05630860374e-05 1.04918671513e-05 1.04284019817e-05 1.03725352144e-05 1.03240681161e-05 1.02827613339e-05 1.02483378628e-05 1.02204864531e-05 1.01988652412e-05 1.01831058314e-05 1.01728176618e-05 1.01675925693e-05 1.01670095897e-05 1.01706397132e-05 1.01780506184e-05 1.01888111363e-05 1.02024955006e-05 1.02186870477e-05 1.02369816753e-05 1.02569906177e-05 1.02783429016e-05 1.03006873624e-05 1.03236942377e-05 1.03470566083e-05 1.03704915374e-05 1.03937412613e-05 1.04165742219e-05 1.04387862697e-05 1.04602017081e-05 1.04806744201e-05 1.05000885653e-05 1.05183586725e-05 1.05354285705e-05 1.05512684056e-05 1.05658690443e-05 1.05792332792e-05 1.05913646168e-05 1.06022574873e-05 1.06119006598e-05 1.06203208278e-05 1.06277161713e-05 1.06347364087e-05 1.06428651215e-05 1.06545353634e-05 1.06723837523e-05 1.06978918491e-05 1.07308154524e-05 1.07695570331e-05 1.08111806788e-05 1.08507249508e-05 1.08792615393e-05 1.08524759414e-05 1.08037822134e-05 1.0412164897e-05 1.09457014639e-05 1.09815544687e-05 1.12395663524e-05 1.18297460825e-05 1.21022893356e-05 1.25121667445e-05 1.30414615409e-05 1.35465348643e-05 1.40718959154e-05 1.49068076565e-05 1.41938163548e-05 1.53713066867e-05 1.42603747472e-05 1.43292378781e-05 1.43129597442e-05 1.44630365532e-05 1.42226267861e-05 1.43284369914e-05 1.43610354629e-05 1.4228604994e-05 1.42930208856e-05 1.423568406e-05 1.44993009292e-05 1.38220335113e-05 1.35524450969e-05 1.36690350735e-05 1.29292074803e-05 1.22992592543e-05 1.24475865095e-05 1.22390841407e-05 1.20534692287e-05 1.23895892738e-05 1.19197523645e-05 1.15530126211e-05 1.16604465643e-05 1.12833063466e-05 1.16683787934e-05 1.08655099471e-05 1.09767723631e-05 1.07173227202e-05 1.06411779317e-05 1.04475813569e-05 1.02228544799e-05 1.00642052917e-05 9.94490754292e-06 9.84239593545e-06 9.70985901541e-06 9.67622073372e-06 9.5677382252e-06 9.54042266873e-06 9.35340941943e-06 9.32537657427e-06 8.87196580538e-06 8.64114083285e-06 8.2901206555e-06 7.95194108014e-06 8.16072839846e-06 7.84512851003e-06 7.7300501266e-06 7.10008468395e-06 7.08075807405e-06 6.76093010248e-06 6.70962489342e-06 6.61102100295e-06 6.64651326325e-06 6.39789728463e-06 6.15051995526e-06 6.04259265573e-06 5.91239239132e-06 5.70920439796e-06 5.51799105043e-06 5.33305663272e-06 5.15414070803e-06 4.98004648047e-06 4.81110595355e-06 4.64823698042e-06 4.49225910823e-06 4.34367559845e-06 4.20269424698e-06 4.06930792763e-06 3.94336592693e-06 3.82462504677e-06 3.71278506103e-06 3.607513587e-06 3.50846488066e-06 3.41529648919e-06 3.3276868826e-06 3.24535670326e-06 3.16809367745e-06 3.0957730603e-06 3.02834208513e-06 2.96564827277e-06 2.90653174198e-06 2.84363075515e-06 2.74678448889e-06 2.76113900098e-06 2.8209417019e-06 2.76595822155e-06 2.70719798596e-06 2.61949097182e-06 2.64239954687e-06 2.37788974089e-06 2.53693399083e-06 2.3731874644e-06 2.48990176054e-06 2.32771827815e-06 2.33142778605e-06 2.1835282618e-06 2.24287252383e-06 2.29186677973e-06 2.12514935395e-06 1.90529926535e-06 2.13311466306e-06 2.02705807333e-06 1.82207730511e-06 1.81908089728e-06 1.67026833638e-06 1.59792299022e-06 1.64355329073e-06 1.37907132795e-06 1.55816380787e-06 1.28273453484e-06 1.29586520157e-06 1.12479247941e-06 1.30754959338e-06 1.01530965542e-06 9.39305595295e-07 8.75402732714e-07 8.51190131704e-07 8.18029873686e-07 9.23881215955e-07 7.24668265056e-07 5.60949305787e-07 5.58295505838e-07 5.80747585239e-07 5.21532901528e-07 4.78408403645e-07 4.06760167162e-07 3.47333061236e-07 3.78745985627e-07 3.12736915937e-07 3.63657422536e-07 2.70192718228e-07 2.80917836532e-07 2.77023411644e-07 2.56295283293e-07 2.48876452188e-07 2.37646934492e-07 2.25498449963e-07 2.14096047606e-07 2.45002919225e-07 1.61519172631e-07 1.63693866118e-07 1.64967163739e-07 1.50178278576e-07 1.46061886118e-07 1.31214033702e-07 1.2376217296e-07 1.13943221956e-07 1.08825437746e-07 9.82605225036e-08 1.10111539083e-07 9.58608939276e-08 7.54519544228e-08 9.00812692437e-08 6.70719860619e-08 8.139839403e-08 6.53801658628e-08 6.50524569617e-08 6.48634580686e-08 6.53137177795e-08 5.78267184783e-08 5.54791544245e-08 4.69359608585e-08 5.54651680331e-08 4.41162641903e-08 4.75944692001e-08 4.01079657587e-08 4.19182903856e-08 3.93233896271e-08 4.20370361903e-08 4.74444964285e-08 3.6517266431e-08 4.39833694995e-08 3.66173769647e-08 3.74938615063e-08 4.13541252067e-08 3.72351621483e-08 3.26091998608e-08 3.70657960021e-08 3.18724758609e-08 3.1870308835e-08 2.48904183888e-08 3.25506797916e-08 3.38941316386e-08 2.85623999671e-08 3.09325353671e-08 2.82407536751e-08 2.66298780214e-08 2.56819915063e-08 2.48069254644e-08 2.40234067897e-08 2.33142170422e-08 2.26313611933e-08 2.19612775583e-08 2.13105002322e-08 2.06845952275e-08 2.00809503812e-08 1.94909789496e-08 1.88981144004e-08 1.82297714708e-08 1.76244176352e-08 1.71441602645e-08 1.67003180998e-08 1.62326065893e-08 1.40666205678e-08 1.60550490729e-08 1.67961466595e-08 1.59660950753e-08 1.3674693585e-08 1.65134996063e-08 1.68909076496e-08 1.68413952509e-08 1.5650435175e-08 1.38508361357e-08 1.49430862823e-08 1.50651251181e-08 1.6481094616e-08 1.58789872986e-08 1.56492799977e-08 1.52661457152e-08 1.46128455877e-08 1.29133752701e-08 1.40514018272e-08 1.30256153676e-08 1.21721105384e-08 1.117196913e-08 1.10888303187e-08 1.16658680094e-08 1.12477148314e-08 1.04445509456e-08 9.93892954621e-09 9.11182609001e-09 9.53480557191e-09 9.57934153384e-09 9.46372960969e-09 9.30405993016e-09 9.04680256552e-09 9.50210374752e-09 7.84539076257e-09 8.30758191151e-09 8.05820415556e-09 7.31570072253e-09 6.53983926357e-09 8.11646196506e-09 7.99467866294e-09 6.93501457673e-09 6.21207418558e-09 6.4541841384e-09 5.65101099127e-09 5.97728608456e-09 6.08479141633e-09 5.55686475078e-09 5.10568070989e-09 4.54857000575e-09 4.61664384479e-09 4.85547434263e-09 4.32154362931e-09 4.05218181293e-09 3.86262053833e-09 3.67018166259e-09 3.3765744444e-09 3.40564130126e-09 3.42231906949e-09 3.26009870734e-09 3.36318992335e-09 3.38058590066e-09 2.93503830244e-09 2.66079465186e-09 2.67208755429e-09 2.62981079946e-09 2.54774390694e-09 2.46190315644e-09 2.3705562524e-09 2.27883217135e-09 2.18694467513e-09 2.09541239706e-09 2.00435225948e-09 1.91401569067e-09 1.82473773433e-09 1.73690318882e-09 1.65089583931e-09 1.56706395915e-09 1.48570199606e-09 1.4070425648e-09 1.3312542199e-09 1.25844374722e-09 1.18866281285e-09 1.1219178264e-09 1.05818101677e-09 9.97400707273e-10 9.3950949683e-10 8.84429894252e-10 8.32077613645e-10 7.82363143721e-10 7.35192312532e-10 6.90466557388e-10 6.48083383906e-10 6.07937224172e-10 5.69920609652e-10 5.33925360514e-10 4.99843455821e-10 4.67567371218e-10 4.36989957152e-10 4.08004392413e-10 3.80505484171e-10 3.54394689191e-10 3.29591418418e-10 3.06046253029e-10 2.83734688527e-10"
     ]
    },
    {
     "ename": "KeyboardInterrupt",
     "evalue": "",
     "output_type": "error",
     "traceback": [
      "\u001b[0;31m---------------------------------------------------------------------------\u001b[0m",
      "\u001b[0;31mKeyboardInterrupt\u001b[0m                         Traceback (most recent call last)",
      "\u001b[0;32m<ipython-input-18-de461c7f03cc>\u001b[0m in \u001b[0;36m<module>\u001b[0;34m()\u001b[0m\n\u001b[0;32m----> 1\u001b[0;31m \u001b[0mtraining\u001b[0m\u001b[0;34m(\u001b[0m\u001b[0mxy_data\u001b[0m\u001b[0;34m,\u001b[0m\u001b[0mimg_data\u001b[0m\u001b[0;34m)\u001b[0m\u001b[0;34m\u001b[0m\u001b[0m\n\u001b[0m",
      "\u001b[0;32m<ipython-input-17-c5c139ad6b83>\u001b[0m in \u001b[0;36mtraining\u001b[0;34m(xy_data, img_data)\u001b[0m\n\u001b[1;32m      6\u001b[0m             \u001b[0mstart\u001b[0m \u001b[0;34m=\u001b[0m \u001b[0mi\u001b[0m \u001b[0;34m*\u001b[0m \u001b[0;36m500\u001b[0m\u001b[0;34m\u001b[0m\u001b[0m\n\u001b[1;32m      7\u001b[0m             \u001b[0mend\u001b[0m  \u001b[0;34m=\u001b[0m \u001b[0mstart\u001b[0m \u001b[0;34m+\u001b[0m \u001b[0;36m500\u001b[0m\u001b[0;34m\u001b[0m\u001b[0m\n\u001b[0;32m----> 8\u001b[0;31m             \u001b[0mimg_predict\u001b[0m\u001b[0;34m,\u001b[0m\u001b[0mcost_predict\u001b[0m \u001b[0;34m=\u001b[0m \u001b[0mtrain\u001b[0m\u001b[0;34m(\u001b[0m\u001b[0mxy_data\u001b[0m\u001b[0;34m[\u001b[0m\u001b[0mstart\u001b[0m\u001b[0;34m:\u001b[0m\u001b[0mend\u001b[0m\u001b[0;34m]\u001b[0m\u001b[0;34m.\u001b[0m\u001b[0mT\u001b[0m\u001b[0;34m,\u001b[0m\u001b[0mimg_data\u001b[0m\u001b[0;34m[\u001b[0m\u001b[0mstart\u001b[0m\u001b[0;34m:\u001b[0m\u001b[0mend\u001b[0m\u001b[0;34m]\u001b[0m\u001b[0;34m.\u001b[0m\u001b[0mT\u001b[0m\u001b[0;34m)\u001b[0m\u001b[0;34m\u001b[0m\u001b[0m\n\u001b[0m\u001b[1;32m      9\u001b[0m \u001b[0;34m\u001b[0m\u001b[0m\n\u001b[1;32m     10\u001b[0m         \u001b[0;32mif\u001b[0m \u001b[0mii\u001b[0m \u001b[0;34m%\u001b[0m \u001b[0;36m10\u001b[0m \u001b[0;34m==\u001b[0m \u001b[0;36m0\u001b[0m\u001b[0;34m:\u001b[0m\u001b[0;34m\u001b[0m\u001b[0m\n",
      "\u001b[0;32m/Library/Python/2.7/site-packages/theano/compile/function_module.pyc\u001b[0m in \u001b[0;36m__call__\u001b[0;34m(self, *args, **kwargs)\u001b[0m\n\u001b[1;32m    593\u001b[0m         \u001b[0mt0_fn\u001b[0m \u001b[0;34m=\u001b[0m \u001b[0mtime\u001b[0m\u001b[0;34m.\u001b[0m\u001b[0mtime\u001b[0m\u001b[0;34m(\u001b[0m\u001b[0;34m)\u001b[0m\u001b[0;34m\u001b[0m\u001b[0m\n\u001b[1;32m    594\u001b[0m         \u001b[0;32mtry\u001b[0m\u001b[0;34m:\u001b[0m\u001b[0;34m\u001b[0m\u001b[0m\n\u001b[0;32m--> 595\u001b[0;31m             \u001b[0moutputs\u001b[0m \u001b[0;34m=\u001b[0m \u001b[0mself\u001b[0m\u001b[0;34m.\u001b[0m\u001b[0mfn\u001b[0m\u001b[0;34m(\u001b[0m\u001b[0;34m)\u001b[0m\u001b[0;34m\u001b[0m\u001b[0m\n\u001b[0m\u001b[1;32m    596\u001b[0m         \u001b[0;32mexcept\u001b[0m \u001b[0mException\u001b[0m\u001b[0;34m:\u001b[0m\u001b[0;34m\u001b[0m\u001b[0m\n\u001b[1;32m    597\u001b[0m             \u001b[0;32mif\u001b[0m \u001b[0mhasattr\u001b[0m\u001b[0;34m(\u001b[0m\u001b[0mself\u001b[0m\u001b[0;34m.\u001b[0m\u001b[0mfn\u001b[0m\u001b[0;34m,\u001b[0m \u001b[0;34m'position_of_error'\u001b[0m\u001b[0;34m)\u001b[0m\u001b[0;34m:\u001b[0m\u001b[0;34m\u001b[0m\u001b[0m\n",
      "\u001b[0;32m/Library/Python/2.7/site-packages/theano/gof/op.pyc\u001b[0m in \u001b[0;36mrval\u001b[0;34m(p, i, o, n)\u001b[0m\n\u001b[1;32m    765\u001b[0m         \u001b[0;32mif\u001b[0m \u001b[0mctx\u001b[0m \u001b[0;32mis\u001b[0m \u001b[0mgraph\u001b[0m\u001b[0;34m.\u001b[0m\u001b[0mNoContext\u001b[0m\u001b[0;34m:\u001b[0m\u001b[0;34m\u001b[0m\u001b[0m\n\u001b[1;32m    766\u001b[0m             \u001b[0;31m# default arguments are stored in the closure of `rval`\u001b[0m\u001b[0;34m\u001b[0m\u001b[0;34m\u001b[0m\u001b[0m\n\u001b[0;32m--> 767\u001b[0;31m             \u001b[0;32mdef\u001b[0m \u001b[0mrval\u001b[0m\u001b[0;34m(\u001b[0m\u001b[0mp\u001b[0m\u001b[0;34m=\u001b[0m\u001b[0mp\u001b[0m\u001b[0;34m,\u001b[0m \u001b[0mi\u001b[0m\u001b[0;34m=\u001b[0m\u001b[0mnode_input_storage\u001b[0m\u001b[0;34m,\u001b[0m \u001b[0mo\u001b[0m\u001b[0;34m=\u001b[0m\u001b[0mnode_output_storage\u001b[0m\u001b[0;34m,\u001b[0m \u001b[0mn\u001b[0m\u001b[0;34m=\u001b[0m\u001b[0mnode\u001b[0m\u001b[0;34m)\u001b[0m\u001b[0;34m:\u001b[0m\u001b[0;34m\u001b[0m\u001b[0m\n\u001b[0m\u001b[1;32m    768\u001b[0m                 \u001b[0mr\u001b[0m \u001b[0;34m=\u001b[0m \u001b[0mp\u001b[0m\u001b[0;34m(\u001b[0m\u001b[0mn\u001b[0m\u001b[0;34m,\u001b[0m \u001b[0;34m[\u001b[0m\u001b[0mx\u001b[0m\u001b[0;34m[\u001b[0m\u001b[0;36m0\u001b[0m\u001b[0;34m]\u001b[0m \u001b[0;32mfor\u001b[0m \u001b[0mx\u001b[0m \u001b[0;32min\u001b[0m \u001b[0mi\u001b[0m\u001b[0;34m]\u001b[0m\u001b[0;34m,\u001b[0m \u001b[0mo\u001b[0m\u001b[0;34m)\u001b[0m\u001b[0;34m\u001b[0m\u001b[0m\n\u001b[1;32m    769\u001b[0m                 \u001b[0;32mfor\u001b[0m \u001b[0mo\u001b[0m \u001b[0;32min\u001b[0m \u001b[0mnode\u001b[0m\u001b[0;34m.\u001b[0m\u001b[0moutputs\u001b[0m\u001b[0;34m:\u001b[0m\u001b[0;34m\u001b[0m\u001b[0m\n",
      "\u001b[0;31mKeyboardInterrupt\u001b[0m: "
     ]
    }
   ],
   "source": [
    "training(xy_data,img_data)"
   ]
  },
  {
   "cell_type": "markdown",
   "metadata": {},
   "source": [
    "## Training - Random Suffule"
   ]
  },
  {
   "cell_type": "code",
   "execution_count": null,
   "metadata": {
    "collapsed": false
   },
   "outputs": [],
   "source": [
    "all_data = zip(xy_data,img_data)\n",
    "shuffle(all_data)\n",
    "temp_xy = []\n",
    "temp_data = []\n",
    "for row in all_data:\n",
    "    temp_xy.append(row[0].tolist()[0])\n",
    "    temp_data.append(row[1])\n"
   ]
  },
  {
   "cell_type": "code",
   "execution_count": null,
   "metadata": {
    "collapsed": false
   },
   "outputs": [],
   "source": [
    "s_data = np.matrix(temp_data)\n",
    "s_xy = np.matrix(temp_xy)\n"
   ]
  },
  {
   "cell_type": "markdown",
   "metadata": {},
   "source": [
    "## Testing"
   ]
  },
  {
   "cell_type": "code",
   "execution_count": 19,
   "metadata": {
    "collapsed": false
   },
   "outputs": [
    {
     "name": "stdout",
     "output_type": "stream",
     "text": [
      "\n"
     ]
    },
    {
     "data": {
      "image/png": "[encoded data removed]",
      "text/plain": [
       "<matplotlib.figure.Figure at 0x108ff3e50>"
      ]
     },
     "metadata": {},
     "output_type": "display_data"
    }
   ],
   "source": [
    "showimg(fa2(xy_data.T)[0].T)"
   ]
  },
  {
   "cell_type": "markdown",
   "metadata": {},
   "source": [
    "## 結論:\n",
    "* data 作 random suffule 的效果奇差，原因可以解釋為其實圖片的資料上下位置有相關系，如果 random 打算在作 mini batch ,反而\n",
    "* 在 hidden layer 設 128 個 neuron解釋力較強，至於原因需要再探咎\n",
    "* 128 nerou <img width=100px src='./imgs/1_128_1/muki_810.png'>\n",
    "* <a href='./imgs/output_2_128_1.mp4'>Training 過程</a>\n",
    "* 256 nerou <img width=100px src='./imgs/2_256_1/muki_740.png/'>\n",
    "* <a href='./imgs/output_2_256_1.mp4'>Training 過程</a>\n",
    "\n"
   ]
  },
  {
   "cell_type": "code",
   "execution_count": null,
   "metadata": {
    "collapsed": true
   },
   "outputs": [],
   "source": []
  }
 ],
 "metadata": {
  "kernelspec": {
   "display_name": "Python 2",
   "language": "python",
   "name": "python2"
  },
  "language_info": {
   "codemirror_mode": {
    "name": "ipython",
    "version": 2
   },
   "file_extension": ".py",
   "mimetype": "text/x-python",
   "name": "python",
   "nbconvert_exporter": "python",
   "pygments_lexer": "ipython2",
   "version": "2.7.10"
  },
  "widgets": {
   "state": {
    "40D2D6877A564AB1820FB8E4230DA497": {
     "views": []
    }
   },
   "version": "1.1.2"
  }
 },
 "nbformat": 4,
 "nbformat_minor": 0
}

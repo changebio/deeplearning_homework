{
 "cells": [
  {
   "cell_type": "code",
   "execution_count": 69,
   "metadata": {
    "collapsed": false,
    "extensions": {
     "jupyter_dashboards": {
      "version": 1,
      "views": {
       "grid_default": {},
       "report_default": {
        "hidden": true
       }
      }
     }
    },
    "init_cell": true
   },
   "outputs": [
    {
     "data": {
      "text/html": [
       "\n",
       "\n",
       "<script type=\"text/javascript\">\n",
       "    urlstr = window.location.href;\n",
       "\n",
       "    if (!urlstr.endsWith('pix')) {\n",
       "        document.getElementById('header').style.display='none'\n",
       "    }\n",
       "    else{\n",
       "        document.getElementById('header').style.display='block'\n",
       "    }\n",
       "\n",
       "</script>\n",
       "<style>\n",
       "img {\n",
       "    -webkit-filter: grayscale(100%); /* Chrome, Safari, Opera */\n",
       "    filter: grayscale(100%);\n",
       "}\n",
       "a{\n",
       "\n",
       "color:#265827;\n",
       "\n",
       "}\n",
       "</style>\n",
       "\n"
      ],
      "text/plain": [
       "<IPython.core.display.HTML object>"
      ]
     },
     "execution_count": 69,
     "metadata": {},
     "output_type": "execute_result"
    }
   ],
   "source": [
    "\n",
    "import numpy as np\n",
    "import pickle\n",
    "from IPython.display import display, clear_output\n",
    "import ipywidgets as widgets\n",
    "# hidden the system bar\n",
    "js =\"\"\"\n",
    "\n",
    "<script type=\"text/javascript\">\n",
    "    urlstr = window.location.href;\n",
    "\n",
    "    if (!urlstr.endsWith('pix')) {\n",
    "        document.getElementById('header').style.display='none'\n",
    "    }\n",
    "    else{\n",
    "        document.getElementById('header').style.display='block'\n",
    "    }\n",
    "\n",
    "</script>\n",
    "<style>\n",
    "img {\n",
    "    -webkit-filter: grayscale(100%); /* Chrome, Safari, Opera */\n",
    "    filter: grayscale(100%);\n",
    "}\n",
    "a{\n",
    "\n",
    "color:#265827;\n",
    "\n",
    "}\n",
    "</style>\n",
    "\n",
    "\"\"\"\n",
    "from IPython.display import HTML\n",
    "HTML(js)\n"
   ]
  },
  {
   "cell_type": "code",
   "execution_count": 70,
   "metadata": {
    "collapsed": false,
    "extensions": {
     "jupyter_dashboards": {
      "version": 1,
      "views": {
       "grid_default": {},
       "report_default": {
        "hidden": true
       }
      }
     }
    },
    "init_cell": true
   },
   "outputs": [],
   "source": [
    "class PixWord2Vec:\n",
    "    index2word = None\n",
    "    word2indx = None\n",
    "    final_embeddings = None\n",
    "    \n",
    "    def search(self,w):\n",
    "        w = w.lower()\n",
    "        if w not in self.word2indx : return None\n",
    "        else:\n",
    "            windex = self.word2indx[w]\n",
    "            wvec = self.final_embeddings[windex]\n",
    "            sim = np.dot(self.final_embeddings,wvec)\n",
    "            for index in sim.argsort()[-10:][::-1][1:]:\n",
    "                print self.index2word[index],sim[index]"
   ]
  },
  {
   "cell_type": "code",
   "execution_count": 71,
   "metadata": {
    "collapsed": false,
    "extensions": {
     "jupyter_dashboards": {
      "version": 1,
      "views": {
       "grid_default": {},
       "report_default": {
        "hidden": true
       }
      }
     }
    },
    "init_cell": true
   },
   "outputs": [],
   "source": [
    "pixword = pickle.load(open(\"./pixword_travel.pk\"))"
   ]
  },
  {
   "cell_type": "code",
   "execution_count": 72,
   "metadata": {
    "collapsed": true,
    "extensions": {
     "jupyter_dashboards": {
      "version": 1,
      "views": {
       "grid_default": {},
       "report_default": {
        "hidden": true
       }
      }
     }
    },
    "init_cell": true
   },
   "outputs": [],
   "source": [
    "def onclick(input):\n",
    "    clear_output()\n",
    "    pixword.search(search_text.value)\n"
   ]
  },
  {
   "cell_type": "code",
   "execution_count": 73,
   "metadata": {
    "collapsed": false,
    "extensions": {
     "jupyter_dashboards": {
      "version": 1,
      "views": {
       "grid_default": {},
       "report_default": {
        "hidden": false
       }
      }
     }
    },
    "init_cell": true
   },
   "outputs": [],
   "source": [
    "if 'search_text' not in globals() : \n",
    "    search_text = widgets.Text(description=u\"關鍵字\",value=u'沖繩')\n",
    "display(search_text)\n",
    "    \n",
    "\n",
    "if 'button_search' not in globals() :\n",
    "    button_search = widgets.Button(description=u\"按我找出字\")\n",
    "    button_search.on_click(onclick)\n",
    "display(button_search)\n",
    "\n"
   ]
  },
  {
   "cell_type": "code",
   "execution_count": null,
   "metadata": {
    "collapsed": true,
    "extensions": {
     "jupyter_dashboards": {
      "version": 1,
      "views": {
       "grid_default": {},
       "report_default": {
        "hidden": true
       }
      }
     }
    }
   },
   "outputs": [],
   "source": []
  }
 ],
 "metadata": {
  "celltoolbar": "Initialisation Cell",
  "extensions": {
   "jupyter_dashboards": {
    "activeView": "report_default",
    "version": 1,
    "views": {
     "grid_default": {
      "name": "grid",
      "type": "grid"
     },
     "report_default": {
      "name": "report",
      "type": "report"
     }
    }
   }
  },
  "kernelspec": {
   "display_name": "Python 2",
   "language": "python",
   "name": "python2"
  },
  "language_info": {
   "codemirror_mode": {
    "name": "ipython",
    "version": 2
   },
   "file_extension": ".py",
   "mimetype": "text/x-python",
   "name": "python",
   "nbconvert_exporter": "python",
   "pygments_lexer": "ipython2",
   "version": "2.7.9"
  },
  "widgets": {
   "state": {
    "b1ee8c1b2f604b138d015acbba81c0bc": {
     "views": [
      {
       "cell_index": 4
      }
     ]
    },
    "ee64c3b6384c4430be50a71e429c0fee": {
     "views": [
      {
       "cell_index": 4
      }
     ]
    }
   },
   "version": "1.2.0"
  }
 },
 "nbformat": 4,
 "nbformat_minor": 1
}

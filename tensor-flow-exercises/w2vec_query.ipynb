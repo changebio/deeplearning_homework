{
 "cells": [
  {
   "cell_type": "code",
   "execution_count": 3,
   "metadata": {
    "collapsed": true
   },
   "outputs": [],
   "source": [
    "import numpy as np\n",
    "import pickle"
   ]
  },
  {
   "cell_type": "code",
   "execution_count": 42,
   "metadata": {
    "collapsed": false
   },
   "outputs": [],
   "source": [
    "class PixWord2Vec:\n",
    "    index2word = None\n",
    "    word2indx = None\n",
    "    final_embeddings = None\n",
    "    \n",
    "    def search(self,w):\n",
    "        w = w.lower()\n",
    "        if w not in self.word2indx : return None\n",
    "        else:\n",
    "            windex = self.word2indx[w]\n",
    "            wvec = self.final_embeddings[windex]\n",
    "            sim = np.dot(self.final_embeddings,wvec)\n",
    "            for index in sim.argsort()[-10:][::-1][1:]:\n",
    "                print self.index2word[index],sim[index]"
   ]
  },
  {
   "cell_type": "code",
   "execution_count": 43,
   "metadata": {
    "collapsed": false
   },
   "outputs": [],
   "source": [
    "pixword = pickle.load(open(\"./pixword.pk\"))"
   ]
  },
  {
   "cell_type": "code",
   "execution_count": 53,
   "metadata": {
    "collapsed": false
   },
   "outputs": [
    {
     "name": "stdout",
     "output_type": "stream",
     "text": [
      "旅行 0.700357\n",
      "旅遊行程 0.573768\n",
      "遊玩 0.570859\n",
      "輕旅行 0.547882\n",
      "日本旅遊 0.542387\n",
      "出遊 0.523996\n",
      "遊學 0.514495\n",
      "遊的 0.504821\n",
      "國外旅遊 0.502515\n"
     ]
    }
   ],
   "source": [
    "pixword.search(u'旅遊')"
   ]
  },
  {
   "cell_type": "code",
   "execution_count": null,
   "metadata": {
    "collapsed": true
   },
   "outputs": [],
   "source": []
  }
 ],
 "metadata": {
  "kernelspec": {
   "display_name": "Python 2",
   "language": "python",
   "name": "python2"
  },
  "language_info": {
   "codemirror_mode": {
    "name": "ipython",
    "version": 2
   },
   "file_extension": ".py",
   "mimetype": "text/x-python",
   "name": "python",
   "nbconvert_exporter": "python",
   "pygments_lexer": "ipython2",
   "version": "2.7.9"
  }
 },
 "nbformat": 4,
 "nbformat_minor": 1
}

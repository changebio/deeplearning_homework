{
 "cells": [
  {
   "cell_type": "code",
   "execution_count": 1,
   "metadata": {
    "collapsed": false
   },
   "outputs": [],
   "source": [
    "%matplotlib inline\n",
    "\n",
    "import matplotlib.pyplot as plt\n",
    "import matplotlib.image as mpimg\n",
    "import numpy as np"
   ]
  },
  {
   "cell_type": "markdown",
   "metadata": {},
   "source": [
    "## Traing & Testing Data Array"
   ]
  },
  {
   "cell_type": "code",
   "execution_count": 2,
   "metadata": {
    "collapsed": true
   },
   "outputs": [],
   "source": [
    "img_data = np.random.randn(250000,1)\n",
    "img_hat = np.random.randn(250000,1)\n"
   ]
  },
  {
   "cell_type": "markdown",
   "metadata": {},
   "source": [
    "## Show Training Picture && Get Data"
   ]
  },
  {
   "cell_type": "code",
   "execution_count": 3,
   "metadata": {
    "collapsed": false
   },
   "outputs": [
    {
     "name": "stderr",
     "output_type": "stream",
     "text": [
      "/Library/Frameworks/Python.framework/Versions/2.7/lib/python2.7/site-packages/ipykernel/__main__.py:18: DeprecationWarning: using a non-integer number instead of an integer will result in an error in the future\n",
      "/Library/Frameworks/Python.framework/Versions/2.7/lib/python2.7/site-packages/ipykernel/__main__.py:19: DeprecationWarning: using a non-integer number instead of an integer will result in an error in the future\n",
      "/Library/Frameworks/Python.framework/Versions/2.7/lib/python2.7/site-packages/ipykernel/__main__.py:20: DeprecationWarning: using a non-integer number instead of an integer will result in an error in the future\n",
      "/Library/Frameworks/Python.framework/Versions/2.7/lib/python2.7/site-packages/ipykernel/__main__.py:22: DeprecationWarning: using a non-integer number instead of an integer will result in an error in the future\n"
     ]
    },
    {
     "name": "stdout",
     "output_type": "stream",
     "text": [
      "250000\n"
     ]
    },
    {
     "name": "stderr",
     "output_type": "stream",
     "text": [
      "/Library/Frameworks/Python.framework/Versions/2.7/lib/python2.7/site-packages/ipykernel/__main__.py:23: DeprecationWarning: using a non-integer number instead of an integer will result in an error in the future\n",
      "/Library/Frameworks/Python.framework/Versions/2.7/lib/python2.7/site-packages/ipykernel/__main__.py:24: DeprecationWarning: using a non-integer number instead of an integer will result in an error in the future\n"
     ]
    },
    {
     "data": {
      "image/png": "[encoded data removed]",
      "text/plain": [
       "<matplotlib.figure.Figure at 0x105f36910>"
      ]
     },
     "metadata": {},
     "output_type": "display_data"
    }
   ],
   "source": [
    "muki = np.zeros((500,500,3))\n",
    "muki.fill(1)\n",
    "plt.imshow(muki)\n",
    "\n",
    "import random\n",
    "\n",
    "f = open('./muki.txt','rb')\n",
    "count = 0\n",
    "for line in f:\n",
    "    y,x,c = line.split()\n",
    "    x = (float(x) )*100. + 250\n",
    "    y = (float(y) )*100. + 250\n",
    "    c = float(c)\n",
    "    \n",
    "    img_data[count] = c\n",
    "    \n",
    "    if c == 0 :\n",
    "        muki[x][y][0] = 1#random.random()\n",
    "        muki[x][y][1] = 1#random.random()\n",
    "        muki[x][y][2] = 1#random.random()        \n",
    "    else:\n",
    "        muki[x][y][0] = 255#random.random()\n",
    "        muki[x][y][1] = 0#random.random()\n",
    "        muki[x][y][2] = 0#random.random()\n",
    "    count += 1\n",
    "#     print x ,y \n",
    "#     if count > 10000 : break\n",
    "plt.imshow(muki)\n",
    "print count\n"
   ]
  },
  {
   "cell_type": "code",
   "execution_count": 4,
   "metadata": {
    "collapsed": true
   },
   "outputs": [],
   "source": [
    "import numpy as np\n",
    "import theano \n",
    "import theano.tensor as T"
   ]
  },
  {
   "cell_type": "markdown",
   "metadata": {},
   "source": [
    "## Muki NN\n",
    "<img width=500px src='./muki_nn.png' />"
   ]
  },
  {
   "cell_type": "code",
   "execution_count": 5,
   "metadata": {
    "collapsed": true
   },
   "outputs": [],
   "source": [
    "x = T.matrix(name='x',dtype='float32')\n",
    "y = T.matrix(name='x',dtype='float32')"
   ]
  },
  {
   "cell_type": "code",
   "execution_count": 6,
   "metadata": {
    "collapsed": false
   },
   "outputs": [],
   "source": [
    "w1 = theano.shared(np.random.randn(128,250000))\n",
    "b1 = theano.shared(np.random.randn(128))\n",
    "w2 = theano.shared(np.random.randn(250000,128))\n",
    "b2 = theano.shared(np.random.randn(250000))"
   ]
  },
  {
   "cell_type": "markdown",
   "metadata": {},
   "source": [
    "## 需採用 dimshuffle\n",
    "* 請參考 ?b1.dimshuffle()"
   ]
  },
  {
   "cell_type": "code",
   "execution_count": 7,
   "metadata": {
    "collapsed": true
   },
   "outputs": [],
   "source": [
    "z1 = T.dot(w1,x) + b1.dimshuffle(0,'x')"
   ]
  },
  {
   "cell_type": "code",
   "execution_count": 8,
   "metadata": {
    "collapsed": true
   },
   "outputs": [],
   "source": [
    "a1 = 1/(1+T.exp(-z1))"
   ]
  },
  {
   "cell_type": "markdown",
   "metadata": {},
   "source": [
    "## 輸出第一層"
   ]
  },
  {
   "cell_type": "code",
   "execution_count": 9,
   "metadata": {
    "collapsed": false
   },
   "outputs": [
    {
     "data": {
      "text/plain": [
       "[array([[  1.00000000e+000],\n",
       "        [  1.00000000e+000],\n",
       "        [  0.00000000e+000],\n",
       "        [  1.00000000e+000],\n",
       "        [  1.00000000e+000],\n",
       "        [  5.28690129e-171],\n",
       "        [  1.57110615e-072],\n",
       "        [  1.80434275e-247],\n",
       "        [  1.65799053e-213],\n",
       "        [  1.00000000e+000],\n",
       "        [  6.52990366e-197],\n",
       "        [  1.00000000e+000],\n",
       "        [  0.00000000e+000],\n",
       "        [  1.00000000e+000],\n",
       "        [  1.00000000e+000],\n",
       "        [  1.02730794e-298],\n",
       "        [  3.72778679e-130],\n",
       "        [  7.32678678e-029],\n",
       "        [  1.00000000e+000],\n",
       "        [  3.28802290e-177],\n",
       "        [  8.96053110e-114],\n",
       "        [  5.00514269e-058],\n",
       "        [  1.00000000e+000],\n",
       "        [  4.86868462e-264],\n",
       "        [  1.84968957e-068],\n",
       "        [  1.00000000e+000],\n",
       "        [  1.00000000e+000],\n",
       "        [  3.90395790e-040],\n",
       "        [  1.00000000e+000],\n",
       "        [  2.64023358e-021],\n",
       "        [  1.00000000e+000],\n",
       "        [  1.00000000e+000],\n",
       "        [  4.42540261e-146],\n",
       "        [  2.54557857e-164],\n",
       "        [  4.32585861e-176],\n",
       "        [  2.72618829e-189],\n",
       "        [  1.00000000e+000],\n",
       "        [  1.00000000e+000],\n",
       "        [  1.00000000e+000],\n",
       "        [  1.00000000e+000],\n",
       "        [  3.50454780e-036],\n",
       "        [  1.00000000e+000],\n",
       "        [  3.06114081e-161],\n",
       "        [  1.00000000e+000],\n",
       "        [  2.16282760e-027],\n",
       "        [  1.00000000e+000],\n",
       "        [  2.35446197e-063],\n",
       "        [  1.00000000e+000],\n",
       "        [  1.71596169e-149],\n",
       "        [  2.97796666e-040],\n",
       "        [  1.00000000e+000],\n",
       "        [  1.00000000e+000],\n",
       "        [  1.00000000e+000],\n",
       "        [  0.00000000e+000],\n",
       "        [  1.00000000e+000],\n",
       "        [  1.71957279e-233],\n",
       "        [  1.00000000e+000],\n",
       "        [  8.12593974e-266],\n",
       "        [  1.00000000e+000],\n",
       "        [  1.00000000e+000],\n",
       "        [  8.70849444e-294],\n",
       "        [  1.00000000e+000],\n",
       "        [  1.00000000e+000],\n",
       "        [  9.99999651e-001],\n",
       "        [  6.17887919e-018],\n",
       "        [  1.00000000e+000],\n",
       "        [  4.02259329e-073],\n",
       "        [  1.00000000e+000],\n",
       "        [  0.00000000e+000],\n",
       "        [  1.00000000e+000],\n",
       "        [  0.00000000e+000],\n",
       "        [  8.30422370e-006],\n",
       "        [  6.24407117e-129],\n",
       "        [  1.00000000e+000],\n",
       "        [  3.28097272e-068],\n",
       "        [  1.00000000e+000],\n",
       "        [  1.00000000e+000],\n",
       "        [  1.00000000e+000],\n",
       "        [  7.67991372e-122],\n",
       "        [  2.67323240e-176],\n",
       "        [  1.00000000e+000],\n",
       "        [  1.00000000e+000],\n",
       "        [  1.20308660e-047],\n",
       "        [  2.20265884e-061],\n",
       "        [  3.99805662e-175],\n",
       "        [  1.00000000e+000],\n",
       "        [  5.01251568e-005],\n",
       "        [  1.00000000e+000],\n",
       "        [  1.00000000e+000],\n",
       "        [  4.02075786e-120],\n",
       "        [  1.89315729e-246],\n",
       "        [  1.00000000e+000],\n",
       "        [  0.00000000e+000],\n",
       "        [  1.36141685e-120],\n",
       "        [  4.76114630e-100],\n",
       "        [  1.00000000e+000],\n",
       "        [  1.00000000e+000],\n",
       "        [  1.00000000e+000],\n",
       "        [  0.00000000e+000],\n",
       "        [  1.71455972e-010],\n",
       "        [  1.33769533e-268],\n",
       "        [  1.17640869e-044],\n",
       "        [  1.00000000e+000],\n",
       "        [  0.00000000e+000],\n",
       "        [  2.32789276e-120],\n",
       "        [  1.00000000e+000],\n",
       "        [  5.04695147e-100],\n",
       "        [  1.29337711e-219],\n",
       "        [  3.60393076e-135],\n",
       "        [  1.82948306e-276],\n",
       "        [  0.00000000e+000],\n",
       "        [  1.00000000e+000],\n",
       "        [  1.00000000e+000],\n",
       "        [  1.00000000e+000],\n",
       "        [  1.00000000e+000],\n",
       "        [  1.36773485e-028],\n",
       "        [  1.00000000e+000],\n",
       "        [  1.00000000e+000],\n",
       "        [  0.00000000e+000],\n",
       "        [  1.67474350e-301],\n",
       "        [  1.00000000e+000],\n",
       "        [  1.51775163e-124],\n",
       "        [  4.50513619e-189],\n",
       "        [  2.11294543e-212],\n",
       "        [  1.00000000e+000],\n",
       "        [  1.00000000e+000],\n",
       "        [  7.13087579e-029],\n",
       "        [  1.31498689e-207]])]"
      ]
     },
     "execution_count": 9,
     "metadata": {},
     "output_type": "execute_result"
    }
   ],
   "source": [
    "fa1 = theano.function(inputs=[x],outputs=[a1],allow_input_downcast=True)\n",
    "fa1(np.random.randn(250000,1))"
   ]
  },
  {
   "cell_type": "code",
   "execution_count": 10,
   "metadata": {
    "collapsed": false
   },
   "outputs": [],
   "source": [
    "z2 = T.dot(w2,a1) + b2.dimshuffle(0,'x')\n",
    "a2 = 1/(1+T.exp(-z2))\n",
    "fa2 = theano.function(inputs=[x],outputs=[a2],allow_input_downcast=True)"
   ]
  },
  {
   "cell_type": "markdown",
   "metadata": {},
   "source": [
    "## 輸出第二層"
   ]
  },
  {
   "cell_type": "code",
   "execution_count": 11,
   "metadata": {
    "collapsed": false
   },
   "outputs": [
    {
     "data": {
      "text/plain": [
       "array([[  9.37658045e-01],\n",
       "       [  1.12252779e-05],\n",
       "       [  9.14919372e-01],\n",
       "       ..., \n",
       "       [  4.16488108e-01],\n",
       "       [  3.89742311e-03],\n",
       "       [  3.36489083e-04]])"
      ]
     },
     "execution_count": 11,
     "metadata": {},
     "output_type": "execute_result"
    }
   ],
   "source": [
    "fa2(np.random.randn(250000,1))[0]"
   ]
  },
  {
   "cell_type": "code",
   "execution_count": 12,
   "metadata": {
    "collapsed": false
   },
   "outputs": [],
   "source": [
    "y_hat = T.matrix('reference',dtype='float32')\n",
    "cost = T.sum((a2-y_hat)**2)/250000"
   ]
  },
  {
   "cell_type": "code",
   "execution_count": 13,
   "metadata": {
    "collapsed": false
   },
   "outputs": [],
   "source": [
    "dw1,db1,dw2,db2 = theano.grad(cost,[w1,b1,w2,b2])"
   ]
  },
  {
   "cell_type": "code",
   "execution_count": 14,
   "metadata": {
    "collapsed": true
   },
   "outputs": [],
   "source": [
    "\n",
    "def Myupdates(ps,gs):\n",
    "    from itertools import izip\n",
    " \n",
    "    r = 1\n",
    "    pu = [ (p,p-r*g) for p,g in izip(ps,gs)   ]\n",
    "    return pu"
   ]
  },
  {
   "cell_type": "code",
   "execution_count": null,
   "metadata": {
    "collapsed": false
   },
   "outputs": [],
   "source": [
    "train = theano.function(inputs=[x,y_hat],\n",
    "                        outputs=[a2,cost],\n",
    "                        updates=Myupdates([w1,b1,w2,b2],[dw1,db1,dw2,db2]),\n",
    "                        allow_input_downcast=True,\n",
    "                                           )"
   ]
  },
  {
   "cell_type": "code",
   "execution_count": null,
   "metadata": {
    "collapsed": false
   },
   "outputs": [
    {
     "name": "stdout",
     "output_type": "stream",
     "text": [
      "0.448445344367\n",
      "0.448399575946\n",
      "0.448428596205\n",
      "0.448364785352\n",
      "0.448356236235\n",
      "0.448359697005\n",
      "0.448286352288"
     ]
    }
   ],
   "source": [
    "\n",
    "img_hat = img_data\n",
    "for i in range(10000):\n",
    "    img_predict,cost_predict = train(img_data,img_hat)\n",
    "    if i%10 == 0:\n",
    "        print cost_predict"
   ]
  },
  {
   "cell_type": "markdown",
   "metadata": {},
   "source": [
    "## 將結果輸出成圖片"
   ]
  },
  {
   "cell_type": "code",
   "execution_count": null,
   "metadata": {
    "collapsed": false
   },
   "outputs": [],
   "source": [
    "\n",
    "def showimg(img):\n",
    "    muki_pr = np.zeros((500,500,3))\n",
    "    l =img.tolist()\n",
    "    count = 0\n",
    "    for x in range(500):\n",
    "        for y in range(500):\n",
    "            muki_pr[y][x] = l[count]\n",
    "            count += 1\n",
    "    plt.imshow(muki_pr)\n",
    "    \n",
    "showimg(img_data)\n"
   ]
  },
  {
   "cell_type": "code",
   "execution_count": null,
   "metadata": {
    "collapsed": true
   },
   "outputs": [],
   "source": []
  }
 ],
 "metadata": {
  "kernelspec": {
   "display_name": "Python 2",
   "language": "python",
   "name": "python2"
  },
  "language_info": {
   "codemirror_mode": {
    "name": "ipython",
    "version": 2
   },
   "file_extension": ".py",
   "mimetype": "text/x-python",
   "name": "python",
   "nbconvert_exporter": "python",
   "pygments_lexer": "ipython2",
   "version": "2.7.10"
  }
 },
 "nbformat": 4,
 "nbformat_minor": 0
}

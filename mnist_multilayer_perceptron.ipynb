{
 "cells": [
  {
   "cell_type": "code",
   "execution_count": 1,
   "metadata": {
    "collapsed": true
   },
   "outputs": [],
   "source": [
    "import matplotlib.pyplot as plt\n",
    "import matplotlib.cm as cm\n",
    "import matplotlib\n",
    "%matplotlib inline\n",
    "import input_data\n",
    "import numpy"
   ]
  },
  {
   "cell_type": "code",
   "execution_count": 2,
   "metadata": {
    "collapsed": false
   },
   "outputs": [
    {
     "name": "stdout",
     "output_type": "stream",
     "text": [
      "Extracting /tmp/data/train-images-idx3-ubyte.gz\n",
      "Extracting /tmp/data/train-labels-idx1-ubyte.gz\n",
      "Extracting /tmp/data/t10k-images-idx3-ubyte.gz\n",
      "Extracting /tmp/data/t10k-labels-idx1-ubyte.gz\n"
     ]
    },
    {
     "name": "stderr",
     "output_type": "stream",
     "text": [
      "/Library/Frameworks/Python.framework/Versions/2.7/lib/python2.7/gzip.py:275: VisibleDeprecationWarning: converting an array with ndim > 0 to an index will result in an error in the future\n",
      "  chunk = self.extrabuf[offset: offset + size]\n",
      "input_data.py:35: VisibleDeprecationWarning: converting an array with ndim > 0 to an index will result in an error in the future\n",
      "  data = data.reshape(num_images, rows, cols, 1)\n"
     ]
    }
   ],
   "source": [
    "# Import MINST data\n",
    "import input_data\n",
    "mnist = input_data.read_data_sets(\"/tmp/data/\", one_hot=True)"
   ]
  },
  {
   "cell_type": "code",
   "execution_count": 3,
   "metadata": {
    "collapsed": true
   },
   "outputs": [],
   "source": [
    "import tensorflow as tf"
   ]
  },
  {
   "cell_type": "code",
   "execution_count": 4,
   "metadata": {
    "collapsed": true
   },
   "outputs": [],
   "source": [
    "# Parameters\n",
    "learning_rate = 0.001\n",
    "training_epochs = 15\n",
    "batch_size = 100\n",
    "display_step = 1"
   ]
  },
  {
   "cell_type": "code",
   "execution_count": 5,
   "metadata": {
    "collapsed": true
   },
   "outputs": [],
   "source": [
    "# Network Parameters\n",
    "n_hidden_1 = 256 # 1st layer num features\n",
    "n_hidden_2 = 256 # 2nd layer num features\n",
    "n_input = 784 # MNIST data input (img shape: 28*28)\n",
    "n_classes = 10 # MNIST total classes (0-9 digits)"
   ]
  },
  {
   "cell_type": "code",
   "execution_count": 6,
   "metadata": {
    "collapsed": false
   },
   "outputs": [],
   "source": [
    "# tf Graph input\n",
    "x = tf.placeholder(\"float\", [None, n_input])\n",
    "y = tf.placeholder(\"float\", [None, n_classes])"
   ]
  },
  {
   "cell_type": "code",
   "execution_count": null,
   "metadata": {
    "collapsed": true
   },
   "outputs": [],
   "source": []
  },
  {
   "cell_type": "code",
   "execution_count": 7,
   "metadata": {
    "collapsed": false
   },
   "outputs": [],
   "source": [
    "# Store layers weight & bias\n",
    "weights = {\n",
    "    'h1': tf.Variable(tf.random_normal([n_input, n_hidden_1])),\n",
    "    'h2': tf.Variable(tf.random_normal([n_hidden_1, n_hidden_2])),\n",
    "    'out': tf.Variable(tf.random_normal([n_hidden_2, n_classes]))\n",
    "}\n",
    "biases = {\n",
    "    'b1': tf.Variable(tf.random_normal([n_hidden_1])),\n",
    "    'b2': tf.Variable(tf.random_normal([n_hidden_2])),\n",
    "    'out': tf.Variable(tf.random_normal([n_classes]))\n",
    "}"
   ]
  },
  {
   "cell_type": "code",
   "execution_count": 17,
   "metadata": {
    "collapsed": false
   },
   "outputs": [],
   "source": [
    "sess = tf.Session()\n",
    "summary_writer = tf.train.SummaryWriter('./log/', sess.graph)\n",
    "sess.run(tf.initialize_all_variables())"
   ]
  },
  {
   "cell_type": "code",
   "execution_count": 18,
   "metadata": {
    "collapsed": true
   },
   "outputs": [],
   "source": [
    "layer1 = tf.nn.relu(tf.add(tf.matmul(x, weights['h1']),biases['b1']))\n",
    "layer2 = tf.nn.relu(tf.add(tf.matmul(layer1,weights['h2']),biases['b2']))\n",
    "output = tf.add(tf.matmul(layer2,weights['out']),biases['out'])\n",
    "cost = tf.reduce_mean(tf.nn.softmax_cross_entropy_with_logits(output,y))\n",
    "optimizer = tf.train.GradientDescentOptimizer(learning_rate=learning_rate).minimize(cost) \n",
    "# tf.summary.scalar('cost', cost)\n",
    "# merged = tf.merge_all_summaries()\n"
   ]
  },
  {
   "cell_type": "code",
   "execution_count": 25,
   "metadata": {
    "collapsed": false
   },
   "outputs": [
    {
     "name": "stdout",
     "output_type": "stream",
     "text": [
      "0.9237\n",
      "0.9253\n",
      "0.9255\n",
      "0.9236\n",
      "0.925\n",
      "0.926\n",
      "0.9264\n",
      "0.9244\n",
      "0.9256\n",
      "0.9256\n",
      "0.9272\n",
      "0.928\n",
      "0.9285\n",
      "0.9279\n",
      "0.9285\n",
      "0.928\n",
      "0.9286\n",
      "0.9294\n",
      "0.9285\n",
      "0.9295\n",
      "0.9299\n",
      "0.9306\n",
      "0.9307\n",
      "0.9309\n",
      "0.9313\n",
      "0.9316\n",
      "0.9294\n",
      "0.9298\n",
      "0.9314\n",
      "0.9304\n",
      "0.9321\n",
      "0.9317\n",
      "0.9314\n",
      "0.9318\n",
      "0.9311\n",
      "0.9306\n",
      "0.9307\n",
      "0.9311\n",
      "0.931\n",
      "0.9295\n",
      "0.9313\n",
      "0.9313\n",
      "0.9314\n",
      "0.9327\n",
      "0.931\n",
      "0.9316\n",
      "0.9317\n",
      "0.9317\n",
      "0.9305\n",
      "0.9309\n",
      "0.9321\n",
      "0.932\n",
      "0.9324\n",
      "0.9331\n",
      "0.9312\n",
      "0.9323\n",
      "0.9319\n",
      "0.9318\n",
      "0.9321\n",
      "0.9315\n",
      "0.9313\n",
      "0.9328\n",
      "0.9321\n",
      "0.9316\n",
      "0.9314\n",
      "0.9317\n",
      "0.932\n",
      "0.9318\n",
      "0.9315\n",
      "0.9317\n",
      "0.9322\n",
      "0.9314\n",
      "0.9312\n",
      "0.9324\n",
      "0.9319\n",
      "0.9331\n",
      "0.9323\n",
      "0.9326\n",
      "0.9328\n",
      "0.933\n",
      "0.9323\n",
      "0.9317\n",
      "0.9327\n",
      "0.933\n",
      "0.9321\n",
      "0.932\n",
      "0.9315\n",
      "0.9328\n",
      "0.9317\n",
      "0.9305\n",
      "0.9321\n",
      "0.9323\n",
      "0.9314\n",
      "0.9319\n",
      "0.9322\n",
      "0.932\n",
      "0.9322\n",
      "0.9324\n",
      "0.9318\n",
      "0.9327\n"
     ]
    }
   ],
   "source": [
    "cost_records = []\n",
    "for _ in range(100):\n",
    "    for i in range(mnist.train.num_examples/batch_size):\n",
    "        images , labels = mnist.train.next_batch(batch_size)\n",
    "#         tf.image_summary('input', images, 10)\n",
    "\n",
    "        cost_value,_ = sess.run([cost,optimizer],feed_dict={x:images,y:labels})\n",
    "        cost_records.append(cost_value)\n",
    "        \n",
    "#     print sess.run(cost,feed_dict={x:mnist.test.images,y:mnist.test.labels})\n",
    "    print sess.run(tf.reduce_mean(tf.cast(tf.equal(tf.arg_max(output,1),tf.arg_max(y,1)) ,'float')) ,\n",
    "         feed_dict={x:mnist.test.images,y:mnist.test.labels})"
   ]
  },
  {
   "cell_type": "code",
   "execution_count": 26,
   "metadata": {
    "collapsed": false
   },
   "outputs": [
    {
     "data": {
      "image/png": "[encoded data removed]",
      "text/plain": [
       "<matplotlib.figure.Figure at 0x109f02990>"
      ]
     },
     "metadata": {},
     "output_type": "display_data"
    }
   ],
   "source": [
    "plt.axis([0, len(cost_records), 0, 20])\n",
    "plt.plot(cost_records)\n",
    "plt.show()\n"
   ]
  },
  {
   "cell_type": "code",
   "execution_count": null,
   "metadata": {
    "collapsed": true
   },
   "outputs": [],
   "source": []
  }
 ],
 "metadata": {
  "kernelspec": {
   "display_name": "Python 2",
   "language": "python",
   "name": "python2"
  },
  "language_info": {
   "codemirror_mode": {
    "name": "ipython",
    "version": 2
   },
   "file_extension": ".py",
   "mimetype": "text/x-python",
   "name": "python",
   "nbconvert_exporter": "python",
   "pygments_lexer": "ipython2",
   "version": "2.7.10"
  }
 },
 "nbformat": 4,
 "nbformat_minor": 0
}

{
 "cells": [
  {
   "cell_type": "code",
   "execution_count": 1,
   "metadata": {
    "collapsed": false
   },
   "outputs": [],
   "source": [
    "%matplotlib inline\n",
    "\n",
    "import matplotlib.pyplot as plt\n",
    "import matplotlib.image as mpimg\n",
    "import numpy as np\n",
    "\n",
    "import theano.tensor as T\n",
    "import theano\n",
    "from itertools import izip\n",
    "import random\n",
    "from random import shuffle\n"
   ]
  },
  {
   "cell_type": "markdown",
   "metadata": {},
   "source": [
    "## 讀取 Miku"
   ]
  },
  {
   "cell_type": "code",
   "execution_count": 2,
   "metadata": {
    "collapsed": false
   },
   "outputs": [],
   "source": [
    "img_count = 0\n",
    "def showimg(img):\n",
    "    muki_pr = np.zeros((500,500,3))\n",
    "    l =img.tolist()\n",
    "    count = 0\n",
    "    for x in range(500):\n",
    "        for y in range(500):\n",
    "            muki_pr[y][x] = l[count]\n",
    "            count += 1\n",
    "    plt.imshow(muki_pr)\n",
    "def saveimg(fname,img):\n",
    "    muki_pr = np.zeros((500,500,3))\n",
    "    l =img.tolist()\n",
    "    count = 0\n",
    "    for x in range(500):\n",
    "        for y in range(500):\n",
    "            muki_pr[y][x] = l[count]\n",
    "            count += 1\n",
    "    plt.imsave(fname,muki_pr)"
   ]
  },
  {
   "cell_type": "code",
   "execution_count": 3,
   "metadata": {
    "collapsed": false
   },
   "outputs": [
    {
     "data": {
      "image/png": "[encoded data removed]",
      "text/plain": [
       "<matplotlib.figure.Figure at 0x10459d4d0>"
      ]
     },
     "metadata": {},
     "output_type": "display_data"
    }
   ],
   "source": [
    "def read_muki():\n",
    "    img_data = np.random.randn(250000,1)\n",
    "    xy_data = []\n",
    "    import random\n",
    "\n",
    "    f = open('./muki.txt','rb')\n",
    "    count = 0\n",
    "    for line in f:\n",
    "        y,x,c = line.split()\n",
    "        xy_data.append([float(x),float(y)])\n",
    "        x = (float(x) )*100. + 250\n",
    "        y = (float(y) )*100. + 250\n",
    "        c = float(c)\n",
    "\n",
    "        img_data[count] = c\n",
    "        \n",
    "        count = count + 1\n",
    "    return np.matrix(xy_data),img_data\n",
    "\n",
    "xy_data,img_data = read_muki()    \n",
    "showimg(img_data)\n"
   ]
  },
  {
   "cell_type": "code",
   "execution_count": 4,
   "metadata": {
    "collapsed": false
   },
   "outputs": [
    {
     "name": "stdout",
     "output_type": "stream",
     "text": [
      "[[-2.5  -2.5 ]\n",
      " [-2.49 -2.5 ]\n",
      " [-2.48 -2.5 ]\n",
      " [-2.47 -2.5 ]\n",
      " [-2.46 -2.5 ]\n",
      " [-2.45 -2.5 ]\n",
      " [-2.44 -2.5 ]\n",
      " [-2.43 -2.5 ]\n",
      " [-2.42 -2.5 ]\n",
      " [-2.41 -2.5 ]]\n",
      "[[ 0.]\n",
      " [ 0.]\n",
      " [ 0.]\n",
      " [ 0.]\n",
      " [ 0.]\n",
      " [ 0.]\n",
      " [ 0.]\n",
      " [ 0.]\n",
      " [ 0.]\n",
      " [ 0.]]\n"
     ]
    }
   ],
   "source": [
    "print xy_data[:10]\n",
    "print img_data[:10]"
   ]
  },
  {
   "cell_type": "markdown",
   "metadata": {},
   "source": [
    "## Muki NN\n",
    "<img width=500px src='./muki_nn.png' />"
   ]
  },
  {
   "cell_type": "code",
   "execution_count": 8,
   "metadata": {
    "collapsed": false
   },
   "outputs": [],
   "source": [
    "from keras.models import Sequential\n",
    "\n",
    "model = Sequential()"
   ]
  },
  {
   "cell_type": "code",
   "execution_count": 9,
   "metadata": {
    "collapsed": false
   },
   "outputs": [],
   "source": [
    "from keras.layers import Dense, Activation\n",
    "from keras.optimizers import SGD\n",
    "\n",
    "model.add(Dense(output_dim=128, input_dim=2))\n",
    "model.add(Activation(\"sigmoid\"))\n",
    "model.add(Dense(output_dim=1, input_dim=128))\n",
    "model.add(Activation(\"sigmoid\"))\n",
    "\n",
    "\n",
    "model.compile(loss='mean_squared_error', optimizer=SGD(lr=0.1, momentum=0.9, nesterov=True), metrics=['accuracy'])\n"
   ]
  },
  {
   "cell_type": "code",
   "execution_count": 10,
   "metadata": {
    "collapsed": false
   },
   "outputs": [
    {
     "data": {
      "image/svg+xml": [
       "<svg height=\"337pt\" viewBox=\"0.00 0.00 180.67 337.00\" width=\"181pt\" xmlns=\"http://www.w3.org/2000/svg\" xmlns:xlink=\"http://www.w3.org/1999/xlink\">\n",
       "<g class=\"graph\" id=\"graph0\" transform=\"scale(1 1) rotate(0) translate(4 333)\">\n",
       "<title>G</title>\n",
       "<polygon fill=\"white\" points=\"-4,4 -4,-333 176.673,-333 176.673,4 -4,4\" stroke=\"none\"/>\n",
       "<!-- 4433451408 -->\n",
       "<g class=\"node\" id=\"node1\"><title>4433451408</title>\n",
       "<polygon fill=\"none\" points=\"0,-292.5 0,-328.5 172.673,-328.5 172.673,-292.5 0,-292.5\" stroke=\"black\"/>\n",
       "<text font-family=\"Times,serif\" font-size=\"14.00\" text-anchor=\"middle\" x=\"86.3364\" y=\"-306.3\">dense_input_2 (InputLayer)</text>\n",
       "</g>\n",
       "<!-- 4433451472 -->\n",
       "<g class=\"node\" id=\"node2\"><title>4433451472</title>\n",
       "<polygon fill=\"none\" points=\"31.4932,-219.5 31.4932,-255.5 141.18,-255.5 141.18,-219.5 31.4932,-219.5\" stroke=\"black\"/>\n",
       "<text font-family=\"Times,serif\" font-size=\"14.00\" text-anchor=\"middle\" x=\"86.3364\" y=\"-233.3\">dense_5 (Dense)</text>\n",
       "</g>\n",
       "<!-- 4433451408&#45;&gt;4433451472 -->\n",
       "<g class=\"edge\" id=\"edge1\"><title>4433451408-&gt;4433451472</title>\n",
       "<path d=\"M86.3364,-292.313C86.3364,-284.289 86.3364,-274.547 86.3364,-265.569\" fill=\"none\" stroke=\"black\"/>\n",
       "<polygon fill=\"black\" points=\"89.8365,-265.529 86.3364,-255.529 82.8365,-265.529 89.8365,-265.529\" stroke=\"black\"/>\n",
       "</g>\n",
       "<!-- 4461717520 -->\n",
       "<g class=\"node\" id=\"node3\"><title>4461717520</title>\n",
       "<polygon fill=\"none\" points=\"7.77588,-146.5 7.77588,-182.5 164.897,-182.5 164.897,-146.5 7.77588,-146.5\" stroke=\"black\"/>\n",
       "<text font-family=\"Times,serif\" font-size=\"14.00\" text-anchor=\"middle\" x=\"86.3364\" y=\"-160.3\">activation_5 (Activation)</text>\n",
       "</g>\n",
       "<!-- 4433451472&#45;&gt;4461717520 -->\n",
       "<g class=\"edge\" id=\"edge2\"><title>4433451472-&gt;4461717520</title>\n",
       "<path d=\"M86.3364,-219.313C86.3364,-211.289 86.3364,-201.547 86.3364,-192.569\" fill=\"none\" stroke=\"black\"/>\n",
       "<polygon fill=\"black\" points=\"89.8365,-192.529 86.3364,-182.529 82.8365,-192.529 89.8365,-192.529\" stroke=\"black\"/>\n",
       "</g>\n",
       "<!-- 4433565072 -->\n",
       "<g class=\"node\" id=\"node4\"><title>4433565072</title>\n",
       "<polygon fill=\"none\" points=\"31.4932,-73.5 31.4932,-109.5 141.18,-109.5 141.18,-73.5 31.4932,-73.5\" stroke=\"black\"/>\n",
       "<text font-family=\"Times,serif\" font-size=\"14.00\" text-anchor=\"middle\" x=\"86.3364\" y=\"-87.3\">dense_6 (Dense)</text>\n",
       "</g>\n",
       "<!-- 4461717520&#45;&gt;4433565072 -->\n",
       "<g class=\"edge\" id=\"edge3\"><title>4461717520-&gt;4433565072</title>\n",
       "<path d=\"M86.3364,-146.313C86.3364,-138.289 86.3364,-128.547 86.3364,-119.569\" fill=\"none\" stroke=\"black\"/>\n",
       "<polygon fill=\"black\" points=\"89.8365,-119.529 86.3364,-109.529 82.8365,-119.529 89.8365,-119.529\" stroke=\"black\"/>\n",
       "</g>\n",
       "<!-- 4433565904 -->\n",
       "<g class=\"node\" id=\"node5\"><title>4433565904</title>\n",
       "<polygon fill=\"none\" points=\"7.77588,-0.5 7.77588,-36.5 164.897,-36.5 164.897,-0.5 7.77588,-0.5\" stroke=\"black\"/>\n",
       "<text font-family=\"Times,serif\" font-size=\"14.00\" text-anchor=\"middle\" x=\"86.3364\" y=\"-14.3\">activation_6 (Activation)</text>\n",
       "</g>\n",
       "<!-- 4433565072&#45;&gt;4433565904 -->\n",
       "<g class=\"edge\" id=\"edge4\"><title>4433565072-&gt;4433565904</title>\n",
       "<path d=\"M86.3364,-73.3129C86.3364,-65.2895 86.3364,-55.5475 86.3364,-46.5691\" fill=\"none\" stroke=\"black\"/>\n",
       "<polygon fill=\"black\" points=\"89.8365,-46.5288 86.3364,-36.5288 82.8365,-46.5289 89.8365,-46.5288\" stroke=\"black\"/>\n",
       "</g>\n",
       "</g>\n",
       "</svg>"
      ],
      "text/plain": [
       "<IPython.core.display.SVG object>"
      ]
     },
     "execution_count": 10,
     "metadata": {},
     "output_type": "execute_result"
    }
   ],
   "source": [
    "from IPython.display import SVG\n",
    "from keras.utils.visualize_util import model_to_dot\n",
    "\n",
    "SVG(model_to_dot(model).create(prog='dot', format='svg'))"
   ]
  },
  {
   "cell_type": "code",
   "execution_count": null,
   "metadata": {
    "collapsed": false
   },
   "outputs": [
    {
     "name": "stdout",
     "output_type": "stream",
     "text": [
      "Epoch 1/50\n",
      "250000/250000 [==============================] - 3s - loss: 0.0884 - acc: 0.8856     \n",
      "Epoch 2/50\n",
      "250000/250000 [==============================] - 4s - loss: 0.0875 - acc: 0.8861     \n",
      "Epoch 3/50\n",
      "250000/250000 [==============================] - 4s - loss: 0.0869 - acc: 0.8864     \n",
      "Epoch 4/50\n",
      "250000/250000 [==============================] - 3s - loss: 0.0863 - acc: 0.8864     \n",
      "Epoch 5/50\n",
      "250000/250000 [==============================] - 3s - loss: 0.0859 - acc: 0.8866     \n",
      "Epoch 6/50\n",
      " 68500/250000 [=======>......................] - ETA: 2s - loss: 0.0853 - acc: 0.8869"
     ]
    }
   ],
   "source": [
    "model.fit(xy_data, img_data, nb_epoch=50, batch_size=500)\n",
    "# training(xy_data,img_data)"
   ]
  },
  {
   "cell_type": "code",
   "execution_count": 13,
   "metadata": {
    "collapsed": false
   },
   "outputs": [
    {
     "data": {
      "text/plain": [
       "array([ 0.00014124,  0.00014098,  0.00014073, ...,  0.00105057,\n",
       "        0.00104798,  0.00104561], dtype=float32)"
      ]
     },
     "execution_count": 13,
     "metadata": {},
     "output_type": "execute_result"
    },
    {
     "data": {
      "image/png": "[encoded data removed]",
      "text/plain": [
       "<matplotlib.figure.Figure at 0x10c416710>"
      ]
     },
     "metadata": {},
     "output_type": "display_data"
    }
   ],
   "source": [
    "result = model.predict(xy_data)\n",
    "showimg(result.T[0])"
   ]
  },
  {
   "cell_type": "markdown",
   "metadata": {},
   "source": [
    "## 結論:\n",
    "* data 作 random suffule 的效果奇差，原因可以解釋為其實圖片的資料上下位置有相關系，如果 random 打散再作 mini batch ,反而喪失掉上下 pixle 之間相關的資料\n",
    "* 在 hidden layer 設 128 個 neuron解釋力較強，至於原因需要再探咎\n",
    "* 128 nerou <img width=100px src='./imgs/1_128_1/muki_810.png'>\n",
    "* <a href='./imgs/output_2_128_1.mp4'>Training 過程</a>\n",
    "* 256 nerou <img width=100px src='./imgs/2_256_1/muki_740.png/'>\n",
    "* <a href='./imgs/output_2_256_1.mp4'>Training 過程</a>\n",
    "\n"
   ]
  },
  {
   "cell_type": "code",
   "execution_count": null,
   "metadata": {
    "collapsed": true
   },
   "outputs": [],
   "source": []
  }
 ],
 "metadata": {
  "kernelspec": {
   "display_name": "Python 2",
   "language": "python",
   "name": "python2"
  },
  "language_info": {
   "codemirror_mode": {
    "name": "ipython",
    "version": 2
   },
   "file_extension": ".py",
   "mimetype": "text/x-python",
   "name": "python",
   "nbconvert_exporter": "python",
   "pygments_lexer": "ipython2",
   "version": "2.7.10"
  },
  "widgets": {
   "state": {
    "40D2D6877A564AB1820FB8E4230DA497": {
     "views": []
    }
   },
   "version": "1.1.2"
  }
 },
 "nbformat": 4,
 "nbformat_minor": 0
}

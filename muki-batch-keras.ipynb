{
 "cells": [
  {
   "cell_type": "code",
   "execution_count": 1,
   "metadata": {
    "collapsed": false
   },
   "outputs": [],
   "source": [
    "%matplotlib inline\n",
    "\n",
    "import matplotlib.pyplot as plt\n",
    "import matplotlib.image as mpimg\n",
    "import numpy as np\n",
    "\n",
    "import theano.tensor as T\n",
    "import theano\n",
    "from itertools import izip\n",
    "import random\n",
    "from random import shuffle\n"
   ]
  },
  {
   "cell_type": "markdown",
   "metadata": {},
   "source": [
    "## 讀取 Miku"
   ]
  },
  {
   "cell_type": "code",
   "execution_count": 2,
   "metadata": {
    "collapsed": false
   },
   "outputs": [],
   "source": [
    "img_count = 0\n",
    "def showimg(img):\n",
    "    muki_pr = np.zeros((500,500,3))\n",
    "    l =img.tolist()\n",
    "    count = 0\n",
    "    for x in range(500):\n",
    "        for y in range(500):\n",
    "            muki_pr[y][x] = l[count]\n",
    "            count += 1\n",
    "    plt.imshow(muki_pr)\n",
    "def saveimg(fname,img):\n",
    "    muki_pr = np.zeros((500,500,3))\n",
    "    l =img.tolist()\n",
    "    count = 0\n",
    "    for x in range(500):\n",
    "        for y in range(500):\n",
    "            muki_pr[y][x] = l[count]\n",
    "            count += 1\n",
    "    plt.imsave(fname,muki_pr)"
   ]
  },
  {
   "cell_type": "code",
   "execution_count": 3,
   "metadata": {
    "collapsed": false
   },
   "outputs": [
    {
     "data": {
      "image/png": "[encoded data removed]",
      "text/plain": [
       "<matplotlib.figure.Figure at 0x10459e690>"
      ]
     },
     "metadata": {},
     "output_type": "display_data"
    }
   ],
   "source": [
    "def read_muki():\n",
    "    img_data = np.random.randn(250000,1)\n",
    "    xy_data = []\n",
    "    import random\n",
    "\n",
    "    f = open('./muki.txt','rb')\n",
    "    count = 0\n",
    "    for line in f:\n",
    "        y,x,c = line.split()\n",
    "        xy_data.append([float(x),float(y)])\n",
    "        x = (float(x) )*100. + 250\n",
    "        y = (float(y) )*100. + 250\n",
    "        c = float(c)\n",
    "\n",
    "        img_data[count] = c\n",
    "        \n",
    "        count = count + 1\n",
    "    return np.matrix(xy_data),img_data\n",
    "\n",
    "xy_data,img_data = read_muki()    \n",
    "showimg(img_data)\n"
   ]
  },
  {
   "cell_type": "code",
   "execution_count": null,
   "metadata": {
    "collapsed": false
   },
   "outputs": [],
   "source": [
    "print xy_data[:10]\n",
    "print img_data[:10]"
   ]
  },
  {
   "cell_type": "markdown",
   "metadata": {},
   "source": [
    "## Muki NN\n",
    "<img width=500px src='./muki_nn.png' />"
   ]
  },
  {
   "cell_type": "code",
   "execution_count": null,
   "metadata": {
    "collapsed": false
   },
   "outputs": [],
   "source": [
    "from keras.models import Sequential\n",
    "\n",
    "model = Sequential()"
   ]
  },
  {
   "cell_type": "code",
   "execution_count": null,
   "metadata": {
    "collapsed": false
   },
   "outputs": [],
   "source": [
    "from keras.layers import Dense, Activation\n",
    "from keras.optimizers import SGD\n",
    "\n",
    "model.add(Dense(output_dim=128, input_dim=2))\n",
    "model.add(Activation(\"relu\"))\n",
    "\n",
    "model.add(Dense(output_dim=128, input_dim=128))\n",
    "model.add(Activation(\"relu\"))\n",
    "\n",
    "model.add(Dense(output_dim=8, input_dim=128))\n",
    "model.add(Activation(\"relu\"))\n",
    "\n",
    "model.add(Dense(output_dim=1, input_dim=8))\n",
    "model.add(Activation(\"relu\"))\n",
    "\n",
    "\n",
    "model.compile(loss='binary_crossentropy', optimizer=SGD(lr=0.1, momentum=0.9, nesterov=True), metrics=['accuracy'])\n"
   ]
  },
  {
   "cell_type": "code",
   "execution_count": null,
   "metadata": {
    "collapsed": false
   },
   "outputs": [],
   "source": [
    "from IPython.display import SVG\n",
    "from keras.utils.visualize_util import model_to_dot\n",
    "\n",
    "SVG(model_to_dot(model).create(prog='dot', format='svg'))"
   ]
  },
  {
   "cell_type": "code",
   "execution_count": null,
   "metadata": {
    "collapsed": false
   },
   "outputs": [],
   "source": [
    "for ii in range(101,300):\n",
    "    model.fit(xy_data, img_data, nb_epoch=5, batch_size=500)\n",
    "    result = model.predict(xy_data)\n",
    "    saveimg('./imgs/muki_relu_'+ str(ii) +'.png', result.T[0])"
   ]
  },
  {
   "cell_type": "code",
   "execution_count": null,
   "metadata": {
    "collapsed": false
   },
   "outputs": [],
   "source": [
    "result = model.predict(xy_data)\n",
    "showimg(result.T[0])"
   ]
  },
  {
   "cell_type": "markdown",
   "metadata": {},
   "source": [
    "## 結論:\n",
    "* data 作 random suffule 的效果奇差，原因可以解釋為其實圖片的資料上下位置有相關系，如果 random 打散再作 mini batch ,反而喪失掉上下 pixle 之間相關的資料\n",
    "* 在 hidden layer 設 128 個 neuron解釋力較強，至於原因需要再探咎\n",
    "* 128 nerou <img width=100px src='./imgs/1_128_1/muki_810.png'>\n",
    "* <a href='./imgs/output_2_128_1.mp4'>Training 過程</a>\n",
    "* 256 nerou <img width=100px src='./imgs/2_256_1/muki_740.png/'>\n",
    "* <a href='./imgs/output_2_256_1.mp4'>Training 過程</a>\n",
    "\n"
   ]
  },
  {
   "cell_type": "code",
   "execution_count": null,
   "metadata": {
    "collapsed": true
   },
   "outputs": [],
   "source": []
  }
 ],
 "metadata": {
  "kernelspec": {
   "display_name": "Python 2",
   "language": "python",
   "name": "python2"
  },
  "language_info": {
   "codemirror_mode": {
    "name": "ipython",
    "version": 2
   },
   "file_extension": ".py",
   "mimetype": "text/x-python",
   "name": "python",
   "nbconvert_exporter": "python",
   "pygments_lexer": "ipython2",
   "version": "2.7.10"
  },
  "widgets": {
   "state": {
    "40D2D6877A564AB1820FB8E4230DA497": {
     "views": []
    }
   },
   "version": "1.1.2"
  }
 },
 "nbformat": 4,
 "nbformat_minor": 0
}

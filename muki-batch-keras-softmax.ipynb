{
 "cells": [
  {
   "cell_type": "code",
   "execution_count": 1,
   "metadata": {
    "collapsed": false
   },
   "outputs": [
    {
     "name": "stderr",
     "output_type": "stream",
     "text": [
      "Using gpu device 0: GeForce GTX 980 Ti (CNMeM is enabled with initial size: 95.0% of memory, cuDNN not available)\n"
     ]
    }
   ],
   "source": [
    "%matplotlib inline\n",
    "\n",
    "import matplotlib.pyplot as plt\n",
    "import matplotlib.image as mpimg\n",
    "import numpy as np\n",
    "\n",
    "import theano.tensor as T\n",
    "import theano\n",
    "from itertools import izip\n",
    "import random\n",
    "from random import shuffle\n"
   ]
  },
  {
   "cell_type": "markdown",
   "metadata": {},
   "source": [
    "## 讀取 Miku"
   ]
  },
  {
   "cell_type": "code",
   "execution_count": 2,
   "metadata": {
    "collapsed": false
   },
   "outputs": [],
   "source": [
    "img_count = 0\n",
    "def showimg(img):\n",
    "    muki_pr = np.zeros((500,500,3))\n",
    "    l =img.tolist()\n",
    "    count = 0\n",
    "    for x in range(500):\n",
    "        for y in range(500):\n",
    "            if l[count][0] >= .5:\n",
    "                muki_pr[y][x] = 1\n",
    "            else:\n",
    "                muki_pr[y][x] = 0\n",
    "                \n",
    "            count += 1\n",
    "    plt.imshow(muki_pr)\n",
    "def saveimg(fname,img):\n",
    "    muki_pr = np.zeros((500,500,3))\n",
    "    l =img.tolist()\n",
    "    count = 0\n",
    "    for x in range(500):\n",
    "        for y in range(500):\n",
    "            if l[count][0] >= .5:\n",
    "                muki_pr[y][x] = 1\n",
    "            else:\n",
    "                muki_pr[y][x] = 0\n",
    "                \n",
    "            count += 1\n",
    "    plt.imsave(fname,muki_pr)"
   ]
  },
  {
   "cell_type": "code",
   "execution_count": 3,
   "metadata": {
    "collapsed": false
   },
   "outputs": [
    {
     "data": {
      "image/png": "[encoded data removed]",
      "text/plain": [
       "<matplotlib.figure.Figure at 0x7ffb8c068350>"
      ]
     },
     "metadata": {},
     "output_type": "display_data"
    }
   ],
   "source": [
    "def read_muki():\n",
    "    img_data = np.random.randn(250000,2)\n",
    "    xy_data = []\n",
    "    import random\n",
    "\n",
    "    f = open('./muki.txt','rb')\n",
    "    count = 0\n",
    "    for line in f:\n",
    "        y,x,c = line.split()\n",
    "        xy_data.append([float(x),float(y)])\n",
    "        \n",
    "        x = (float(x) )*100. + 250\n",
    "        y = (float(y) )*100. + 250\n",
    "        c = float(c)\n",
    "        \n",
    "        if c >= 1:\n",
    "            img_data[count] = (1,0)\n",
    "        else:\n",
    "            img_data[count] = (0,1)\n",
    "            \n",
    "            \n",
    "\n",
    "#         img_data[count] = c\n",
    "        \n",
    "        count = count + 1\n",
    "    return np.matrix(xy_data),img_data\n",
    "\n",
    "xy_data,img_data = read_muki()    \n",
    "showimg(img_data)\n"
   ]
  },
  {
   "cell_type": "code",
   "execution_count": 4,
   "metadata": {
    "collapsed": false
   },
   "outputs": [
    {
     "name": "stdout",
     "output_type": "stream",
     "text": [
      "[[-2.5  -2.5 ]\n",
      " [-2.49 -2.5 ]\n",
      " [-2.48 -2.5 ]\n",
      " [-2.47 -2.5 ]\n",
      " [-2.46 -2.5 ]\n",
      " [-2.45 -2.5 ]\n",
      " [-2.44 -2.5 ]\n",
      " [-2.43 -2.5 ]\n",
      " [-2.42 -2.5 ]\n",
      " [-2.41 -2.5 ]]\n",
      "[[ 0.  1.]\n",
      " [ 0.  1.]\n",
      " [ 0.  1.]\n",
      " [ 0.  1.]\n",
      " [ 0.  1.]\n",
      " [ 0.  1.]\n",
      " [ 0.  1.]\n",
      " [ 0.  1.]\n",
      " [ 0.  1.]\n",
      " [ 0.  1.]]\n"
     ]
    }
   ],
   "source": [
    "print xy_data[:10]\n",
    "print img_data[:10]"
   ]
  },
  {
   "cell_type": "markdown",
   "metadata": {},
   "source": [
    "## Muki NN\n",
    "<img width=500px src='./muki_nn.png' />"
   ]
  },
  {
   "cell_type": "code",
   "execution_count": 5,
   "metadata": {
    "collapsed": false
   },
   "outputs": [
    {
     "name": "stderr",
     "output_type": "stream",
     "text": [
      "Using Theano backend.\n"
     ]
    }
   ],
   "source": [
    "from keras.models import Sequential\n",
    "\n",
    "model = Sequential()"
   ]
  },
  {
   "cell_type": "code",
   "execution_count": 6,
   "metadata": {
    "collapsed": false
   },
   "outputs": [],
   "source": [
    "from keras.layers import Dense, Activation\n",
    "from keras.optimizers import SGD\n",
    "\n",
    "model.add(Dense(output_dim=128, input_dim=2))\n",
    "model.add(Activation(\"relu\"))\n",
    "model.add(Dense(output_dim=128, input_dim=128))\n",
    "model.add(Activation(\"relu\"))\n",
    "model.add(Dense(output_dim=8, input_dim=128))\n",
    "model.add(Activation(\"relu\"))\n",
    "model.add(Dense(output_dim=2, input_dim=8))\n",
    "model.add(Activation(\"softplus\"))\n",
    "model.compile(loss='mean_squared_error', optimizer=SGD(lr=0.05, momentum=0.9, nesterov=True), metrics=['accuracy'])\n"
   ]
  },
  {
   "cell_type": "code",
   "execution_count": 7,
   "metadata": {
    "collapsed": false
   },
   "outputs": [
    {
     "data": {
      "image/svg+xml": [
       "<svg height=\"629pt\" viewBox=\"0.00 0.00 180.67 629.00\" width=\"181pt\" xmlns=\"http://www.w3.org/2000/svg\" xmlns:xlink=\"http://www.w3.org/1999/xlink\">\n",
       "<g class=\"graph\" id=\"graph0\" transform=\"scale(1 1) rotate(0) translate(4 625)\">\n",
       "<title>G</title>\n",
       "<polygon fill=\"white\" points=\"-4,4 -4,-625 176.673,-625 176.673,4 -4,4\" stroke=\"none\"/>\n",
       "<!-- 4442470864 -->\n",
       "<g class=\"node\" id=\"node1\"><title>4442470864</title>\n",
       "<polygon fill=\"none\" points=\"0,-584.5 0,-620.5 172.673,-620.5 172.673,-584.5 0,-584.5\" stroke=\"black\"/>\n",
       "<text font-family=\"Times,serif\" font-size=\"14.00\" text-anchor=\"middle\" x=\"86.3364\" y=\"-598.3\">dense_input_1 (InputLayer)</text>\n",
       "</g>\n",
       "<!-- 4442471120 -->\n",
       "<g class=\"node\" id=\"node2\"><title>4442471120</title>\n",
       "<polygon fill=\"none\" points=\"31.4932,-511.5 31.4932,-547.5 141.18,-547.5 141.18,-511.5 31.4932,-511.5\" stroke=\"black\"/>\n",
       "<text font-family=\"Times,serif\" font-size=\"14.00\" text-anchor=\"middle\" x=\"86.3364\" y=\"-525.3\">dense_1 (Dense)</text>\n",
       "</g>\n",
       "<!-- 4442470864&#45;&gt;4442471120 -->\n",
       "<g class=\"edge\" id=\"edge1\"><title>4442470864-&gt;4442471120</title>\n",
       "<path d=\"M86.3364,-584.313C86.3364,-576.289 86.3364,-566.547 86.3364,-557.569\" fill=\"none\" stroke=\"black\"/>\n",
       "<polygon fill=\"black\" points=\"89.8365,-557.529 86.3364,-547.529 82.8365,-557.529 89.8365,-557.529\" stroke=\"black\"/>\n",
       "</g>\n",
       "<!-- 4441466832 -->\n",
       "<g class=\"node\" id=\"node3\"><title>4441466832</title>\n",
       "<polygon fill=\"none\" points=\"7.77588,-438.5 7.77588,-474.5 164.897,-474.5 164.897,-438.5 7.77588,-438.5\" stroke=\"black\"/>\n",
       "<text font-family=\"Times,serif\" font-size=\"14.00\" text-anchor=\"middle\" x=\"86.3364\" y=\"-452.3\">activation_1 (Activation)</text>\n",
       "</g>\n",
       "<!-- 4442471120&#45;&gt;4441466832 -->\n",
       "<g class=\"edge\" id=\"edge2\"><title>4442471120-&gt;4441466832</title>\n",
       "<path d=\"M86.3364,-511.313C86.3364,-503.289 86.3364,-493.547 86.3364,-484.569\" fill=\"none\" stroke=\"black\"/>\n",
       "<polygon fill=\"black\" points=\"89.8365,-484.529 86.3364,-474.529 82.8365,-484.529 89.8365,-484.529\" stroke=\"black\"/>\n",
       "</g>\n",
       "<!-- 4442719312 -->\n",
       "<g class=\"node\" id=\"node4\"><title>4442719312</title>\n",
       "<polygon fill=\"none\" points=\"31.4932,-365.5 31.4932,-401.5 141.18,-401.5 141.18,-365.5 31.4932,-365.5\" stroke=\"black\"/>\n",
       "<text font-family=\"Times,serif\" font-size=\"14.00\" text-anchor=\"middle\" x=\"86.3364\" y=\"-379.3\">dense_2 (Dense)</text>\n",
       "</g>\n",
       "<!-- 4441466832&#45;&gt;4442719312 -->\n",
       "<g class=\"edge\" id=\"edge3\"><title>4441466832-&gt;4442719312</title>\n",
       "<path d=\"M86.3364,-438.313C86.3364,-430.289 86.3364,-420.547 86.3364,-411.569\" fill=\"none\" stroke=\"black\"/>\n",
       "<polygon fill=\"black\" points=\"89.8365,-411.529 86.3364,-401.529 82.8365,-411.529 89.8365,-411.529\" stroke=\"black\"/>\n",
       "</g>\n",
       "<!-- 4442926224 -->\n",
       "<g class=\"node\" id=\"node5\"><title>4442926224</title>\n",
       "<polygon fill=\"none\" points=\"7.77588,-292.5 7.77588,-328.5 164.897,-328.5 164.897,-292.5 7.77588,-292.5\" stroke=\"black\"/>\n",
       "<text font-family=\"Times,serif\" font-size=\"14.00\" text-anchor=\"middle\" x=\"86.3364\" y=\"-306.3\">activation_2 (Activation)</text>\n",
       "</g>\n",
       "<!-- 4442719312&#45;&gt;4442926224 -->\n",
       "<g class=\"edge\" id=\"edge4\"><title>4442719312-&gt;4442926224</title>\n",
       "<path d=\"M86.3364,-365.313C86.3364,-357.289 86.3364,-347.547 86.3364,-338.569\" fill=\"none\" stroke=\"black\"/>\n",
       "<polygon fill=\"black\" points=\"89.8365,-338.529 86.3364,-328.529 82.8365,-338.529 89.8365,-338.529\" stroke=\"black\"/>\n",
       "</g>\n",
       "<!-- 4442973072 -->\n",
       "<g class=\"node\" id=\"node6\"><title>4442973072</title>\n",
       "<polygon fill=\"none\" points=\"31.4932,-219.5 31.4932,-255.5 141.18,-255.5 141.18,-219.5 31.4932,-219.5\" stroke=\"black\"/>\n",
       "<text font-family=\"Times,serif\" font-size=\"14.00\" text-anchor=\"middle\" x=\"86.3364\" y=\"-233.3\">dense_3 (Dense)</text>\n",
       "</g>\n",
       "<!-- 4442926224&#45;&gt;4442973072 -->\n",
       "<g class=\"edge\" id=\"edge5\"><title>4442926224-&gt;4442973072</title>\n",
       "<path d=\"M86.3364,-292.313C86.3364,-284.289 86.3364,-274.547 86.3364,-265.569\" fill=\"none\" stroke=\"black\"/>\n",
       "<polygon fill=\"black\" points=\"89.8365,-265.529 86.3364,-255.529 82.8365,-265.529 89.8365,-265.529\" stroke=\"black\"/>\n",
       "</g>\n",
       "<!-- 4442976208 -->\n",
       "<g class=\"node\" id=\"node7\"><title>4442976208</title>\n",
       "<polygon fill=\"none\" points=\"7.77588,-146.5 7.77588,-182.5 164.897,-182.5 164.897,-146.5 7.77588,-146.5\" stroke=\"black\"/>\n",
       "<text font-family=\"Times,serif\" font-size=\"14.00\" text-anchor=\"middle\" x=\"86.3364\" y=\"-160.3\">activation_3 (Activation)</text>\n",
       "</g>\n",
       "<!-- 4442973072&#45;&gt;4442976208 -->\n",
       "<g class=\"edge\" id=\"edge6\"><title>4442973072-&gt;4442976208</title>\n",
       "<path d=\"M86.3364,-219.313C86.3364,-211.289 86.3364,-201.547 86.3364,-192.569\" fill=\"none\" stroke=\"black\"/>\n",
       "<polygon fill=\"black\" points=\"89.8365,-192.529 86.3364,-182.529 82.8365,-192.529 89.8365,-192.529\" stroke=\"black\"/>\n",
       "</g>\n",
       "<!-- 4442973200 -->\n",
       "<g class=\"node\" id=\"node8\"><title>4442973200</title>\n",
       "<polygon fill=\"none\" points=\"31.4932,-73.5 31.4932,-109.5 141.18,-109.5 141.18,-73.5 31.4932,-73.5\" stroke=\"black\"/>\n",
       "<text font-family=\"Times,serif\" font-size=\"14.00\" text-anchor=\"middle\" x=\"86.3364\" y=\"-87.3\">dense_4 (Dense)</text>\n",
       "</g>\n",
       "<!-- 4442976208&#45;&gt;4442973200 -->\n",
       "<g class=\"edge\" id=\"edge7\"><title>4442976208-&gt;4442973200</title>\n",
       "<path d=\"M86.3364,-146.313C86.3364,-138.289 86.3364,-128.547 86.3364,-119.569\" fill=\"none\" stroke=\"black\"/>\n",
       "<polygon fill=\"black\" points=\"89.8365,-119.529 86.3364,-109.529 82.8365,-119.529 89.8365,-119.529\" stroke=\"black\"/>\n",
       "</g>\n",
       "<!-- 4443023376 -->\n",
       "<g class=\"node\" id=\"node9\"><title>4443023376</title>\n",
       "<polygon fill=\"none\" points=\"7.77588,-0.5 7.77588,-36.5 164.897,-36.5 164.897,-0.5 7.77588,-0.5\" stroke=\"black\"/>\n",
       "<text font-family=\"Times,serif\" font-size=\"14.00\" text-anchor=\"middle\" x=\"86.3364\" y=\"-14.3\">activation_4 (Activation)</text>\n",
       "</g>\n",
       "<!-- 4442973200&#45;&gt;4443023376 -->\n",
       "<g class=\"edge\" id=\"edge8\"><title>4442973200-&gt;4443023376</title>\n",
       "<path d=\"M86.3364,-73.3129C86.3364,-65.2895 86.3364,-55.5475 86.3364,-46.5691\" fill=\"none\" stroke=\"black\"/>\n",
       "<polygon fill=\"black\" points=\"89.8365,-46.5288 86.3364,-36.5288 82.8365,-46.5289 89.8365,-46.5288\" stroke=\"black\"/>\n",
       "</g>\n",
       "</g>\n",
       "</svg>"
      ],
      "text/plain": [
       "<IPython.core.display.SVG object>"
      ]
     },
     "execution_count": 7,
     "metadata": {},
     "output_type": "execute_result"
    }
   ],
   "source": [
    "from IPython.display import SVG\n",
    "from keras.utils.visualize_util import model_to_dot\n",
    "\n",
    "SVG(model_to_dot(model).create(prog='dot', format='svg'))"
   ]
  },
  {
   "cell_type": "code",
   "execution_count": null,
   "metadata": {
    "collapsed": false
   },
   "outputs": [
    {
     "name": "stdout",
     "output_type": "stream",
     "text": [
      "Epoch 1/5\n",
      "250000/250000 [==============================] - 0s - loss: 0.1160 - acc: 0.8502     \n",
      "Epoch 2/5\n",
      "250000/250000 [==============================] - 0s - loss: 0.0693 - acc: 0.9143     \n",
      "Epoch 3/5\n",
      "250000/250000 [==============================] - 0s - loss: 0.0495 - acc: 0.9409     \n",
      "Epoch 4/5\n",
      "250000/250000 [==============================] - 0s - loss: 0.0402 - acc: 0.9562     \n",
      "Epoch 5/5\n",
      "250000/250000 [==============================] - 0s - loss: 0.0345 - acc: 0.9638     \n",
      "Epoch 1/5\n",
      "250000/250000 [==============================] - 0s - loss: 0.0304 - acc: 0.9687     \n",
      "Epoch 2/5\n",
      "250000/250000 [==============================] - 0s - loss: 0.0281 - acc: 0.9711     \n",
      "Epoch 3/5\n",
      "250000/250000 [==============================] - 0s - loss: 0.0261 - acc: 0.9729     \n",
      "Epoch 4/5\n",
      "250000/250000 [==============================] - 0s - loss: 0.0253 - acc: 0.9739     \n",
      "Epoch 5/5\n",
      "250000/250000 [==============================] - 0s - loss: 0.0242 - acc: 0.9748     \n",
      "Epoch 1/5\n",
      "250000/250000 [==============================] - 0s - loss: 0.0232 - acc: 0.9752     \n",
      "Epoch 2/5\n",
      "250000/250000 [==============================] - 0s - loss: 0.0225 - acc: 0.9756     \n",
      "Epoch 3/5\n",
      "250000/250000 [==============================] - 0s - loss: 0.0217 - acc: 0.9758     \n",
      "Epoch 4/5\n",
      "250000/250000 [==============================] - 0s - loss: 0.0212 - acc: 0.9764     \n",
      "Epoch 5/5\n",
      "250000/250000 [==============================] - 0s - loss: 0.0205 - acc: 0.9768     \n",
      "Epoch 1/5\n",
      "250000/250000 [==============================] - 0s - loss: 0.0201 - acc: 0.9771     \n",
      "Epoch 2/5\n",
      "250000/250000 [==============================] - 0s - loss: 0.0194 - acc: 0.9781     \n",
      "Epoch 3/5\n",
      "250000/250000 [==============================] - 0s - loss: 0.0190 - acc: 0.9783     \n",
      "Epoch 4/5\n",
      "250000/250000 [==============================] - 0s - loss: 0.0184 - acc: 0.9789     \n",
      "Epoch 5/5\n",
      "250000/250000 [==============================] - 0s - loss: 0.0183 - acc: 0.9790     \n",
      "Epoch 1/5\n",
      "250000/250000 [==============================] - 0s - loss: 0.0178 - acc: 0.9794     \n",
      "Epoch 2/5\n",
      "250000/250000 [==============================] - 0s - loss: 0.0175 - acc: 0.9800     \n",
      "Epoch 3/5\n",
      "250000/250000 [==============================] - 0s - loss: 0.0171 - acc: 0.9806     \n",
      "Epoch 4/5\n",
      "250000/250000 [==============================] - 0s - loss: 0.0169 - acc: 0.9809     \n",
      "Epoch 5/5\n",
      "250000/250000 [==============================] - 0s - loss: 0.0167 - acc: 0.9811     \n",
      "Epoch 1/5\n",
      "250000/250000 [==============================] - 0s - loss: 0.0163 - acc: 0.9817     \n",
      "Epoch 2/5\n",
      "250000/250000 [==============================] - 0s - loss: 0.0161 - acc: 0.9820     \n",
      "Epoch 3/5\n",
      "250000/250000 [==============================] - 0s - loss: 0.0159 - acc: 0.9824     \n",
      "Epoch 4/5\n",
      "250000/250000 [==============================] - 0s - loss: 0.0157 - acc: 0.9823     \n",
      "Epoch 5/5\n",
      "250000/250000 [==============================] - 0s - loss: 0.0157 - acc: 0.9824     \n",
      "Epoch 1/5\n",
      "250000/250000 [==============================] - 0s - loss: 0.0154 - acc: 0.9825     \n",
      "Epoch 2/5\n",
      "250000/250000 [==============================] - 0s - loss: 0.0150 - acc: 0.9826     \n",
      "Epoch 3/5\n",
      "250000/250000 [==============================] - 0s - loss: 0.0149 - acc: 0.9826     \n",
      "Epoch 4/5\n",
      "250000/250000 [==============================] - 0s - loss: 0.0149 - acc: 0.9818     \n",
      "Epoch 5/5\n",
      "250000/250000 [==============================] - 0s - loss: 0.0146 - acc: 0.9823     \n",
      "Epoch 1/5\n",
      "250000/250000 [==============================] - 0s - loss: 0.0144 - acc: 0.9827     \n",
      "Epoch 2/5\n",
      "250000/250000 [==============================] - 0s - loss: 0.0142 - acc: 0.9827     \n",
      "Epoch 3/5\n",
      "250000/250000 [==============================] - 0s - loss: 0.0141 - acc: 0.9825     \n",
      "Epoch 4/5\n",
      "250000/250000 [==============================] - 0s - loss: 0.0140 - acc: 0.9827     \n",
      "Epoch 5/5\n",
      "250000/250000 [==============================] - 0s - loss: 0.0141 - acc: 0.9825     \n",
      "Epoch 1/5\n",
      "250000/250000 [==============================] - 0s - loss: 0.0139 - acc: 0.9830     \n",
      "Epoch 2/5\n",
      "250000/250000 [==============================] - 0s - loss: 0.0137 - acc: 0.9833     \n",
      "Epoch 3/5\n",
      "250000/250000 [==============================] - 0s - loss: 0.0139 - acc: 0.9825     \n",
      "Epoch 4/5\n",
      "250000/250000 [==============================] - 0s - loss: 0.0140 - acc: 0.9828     \n",
      "Epoch 5/5\n",
      "250000/250000 [==============================] - 0s - loss: 0.0137 - acc: 0.9826     \n",
      "Epoch 1/5\n",
      "250000/250000 [==============================] - 0s - loss: 0.0138 - acc: 0.9828     \n",
      "Epoch 2/5\n",
      "250000/250000 [==============================] - 0s - loss: 0.0139 - acc: 0.9831     \n",
      "Epoch 3/5\n",
      "250000/250000 [==============================] - 0s - loss: 0.0135 - acc: 0.9833     \n",
      "Epoch 4/5\n",
      "250000/250000 [==============================] - 0s - loss: 0.0132 - acc: 0.9834     \n",
      "Epoch 5/5\n",
      "250000/250000 [==============================] - 0s - loss: 0.0132 - acc: 0.9836     \n",
      "Epoch 1/5\n",
      "250000/250000 [==============================] - 0s - loss: 0.0133 - acc: 0.9835     \n",
      "Epoch 2/5\n",
      "250000/250000 [==============================] - 0s - loss: 0.0132 - acc: 0.9834     \n",
      "Epoch 3/5\n",
      "250000/250000 [==============================] - 0s - loss: 0.0130 - acc: 0.9837     \n",
      "Epoch 4/5\n",
      "250000/250000 [==============================] - 0s - loss: 0.0132 - acc: 0.9836     \n",
      "Epoch 5/5\n",
      "250000/250000 [==============================] - 0s - loss: 0.0129 - acc: 0.9838     \n",
      "Epoch 1/5\n",
      "250000/250000 [==============================] - 0s - loss: 0.0132 - acc: 0.9836     \n",
      "Epoch 2/5\n",
      "250000/250000 [==============================] - 0s - loss: 0.0130 - acc: 0.9840     \n",
      "Epoch 3/5\n",
      "250000/250000 [==============================] - 0s - loss: 0.0132 - acc: 0.9838     \n",
      "Epoch 4/5\n",
      "250000/250000 [==============================] - 0s - loss: 0.0128 - acc: 0.9841     \n",
      "Epoch 5/5\n",
      "250000/250000 [==============================] - 0s - loss: 0.0126 - acc: 0.9842     \n",
      "Epoch 1/5\n",
      "250000/250000 [==============================] - 0s - loss: 0.0129 - acc: 0.9842     \n",
      "Epoch 2/5\n",
      "250000/250000 [==============================] - 0s - loss: 0.0128 - acc: 0.9843     \n",
      "Epoch 3/5\n",
      "250000/250000 [==============================] - 0s - loss: 0.0129 - acc: 0.9840     \n",
      "Epoch 4/5\n",
      "250000/250000 [==============================] - 0s - loss: 0.0128 - acc: 0.9840     \n",
      "Epoch 5/5\n",
      "250000/250000 [==============================] - 0s - loss: 0.0124 - acc: 0.9848     \n",
      "Epoch 1/5\n",
      "250000/250000 [==============================] - 0s - loss: 0.0127 - acc: 0.9843     \n",
      "Epoch 2/5\n",
      "250000/250000 [==============================] - 0s - loss: 0.0125 - acc: 0.9843     \n",
      "Epoch 3/5\n",
      "250000/250000 [==============================] - 0s - loss: 0.0126 - acc: 0.9843     \n",
      "Epoch 4/5\n",
      "250000/250000 [==============================] - 0s - loss: 0.0124 - acc: 0.9846     \n",
      "Epoch 5/5\n",
      "250000/250000 [==============================] - 0s - loss: 0.0128 - acc: 0.9841     \n",
      "Epoch 1/5\n",
      "250000/250000 [==============================] - 0s - loss: 0.0125 - acc: 0.9845     \n",
      "Epoch 2/5\n",
      "250000/250000 [==============================] - 0s - loss: 0.0124 - acc: 0.9846     \n",
      "Epoch 3/5\n",
      "250000/250000 [==============================] - 0s - loss: 0.0125 - acc: 0.9846     \n",
      "Epoch 4/5\n",
      "250000/250000 [==============================] - 0s - loss: 0.0126 - acc: 0.9843     \n",
      "Epoch 5/5\n",
      "250000/250000 [==============================] - 0s - loss: 0.0125 - acc: 0.9844     \n"
     ]
    }
   ],
   "source": [
    "for ii in range(50):\n",
    "    model.fit(xy_data, img_data, nb_epoch=5, batch_size=500)\n",
    "    result = model.predict(xy_data)\n",
    "    saveimg('./imgs/muki_relu_'+ str(ii) +'.png', result)"
   ]
  },
  {
   "cell_type": "code",
   "execution_count": null,
   "metadata": {
    "collapsed": false
   },
   "outputs": [],
   "source": [
    "result = model.predict(xy_data)\n",
    "showimg(result)"
   ]
  },
  {
   "cell_type": "markdown",
   "metadata": {},
   "source": [
    "## 結論:\n",
    "* data 作 random suffule 的效果奇差，原因可以解釋為其實圖片的資料上下位置有相關系，如果 random 打散再作 mini batch ,反而喪失掉上下 pixle 之間相關的資料\n",
    "* 在 hidden layer 設 128 個 neuron解釋力較強，至於原因需要再探咎\n",
    "* 128 nerou <img width=100px src='./imgs/1_128_1/muki_810.png'>\n",
    "* <a href='./imgs/output_2_128_1.mp4'>Training 過程</a>\n",
    "* 256 nerou <img width=100px src='./imgs/2_256_1/muki_740.png/'>\n",
    "* <a href='./imgs/output_2_256_1.mp4'>Training 過程</a>\n",
    "\n"
   ]
  },
  {
   "cell_type": "code",
   "execution_count": null,
   "metadata": {
    "collapsed": true
   },
   "outputs": [],
   "source": []
  }
 ],
 "metadata": {
  "kernelspec": {
   "display_name": "Python 2",
   "language": "python",
   "name": "python2"
  },
  "language_info": {
   "codemirror_mode": {
    "name": "ipython",
    "version": 2
   },
   "file_extension": ".py",
   "mimetype": "text/x-python",
   "name": "python",
   "nbconvert_exporter": "python",
   "pygments_lexer": "ipython2",
   "version": "2.7.6"
  },
  "widgets": {
   "state": {
    "C3A4FC89A48C4208823D01CBE3AA83B2": {
     "views": []
    }
   },
   "version": "1.1.2"
  }
 },
 "nbformat": 4,
 "nbformat_minor": 0
}

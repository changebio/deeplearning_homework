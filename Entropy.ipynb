{
 "cells": [
  {
   "cell_type": "code",
   "execution_count": 53,
   "metadata": {},
   "outputs": [
    {
     "name": "stdout",
     "output_type": "stream",
     "text": [
      "gargleblaster: 2.931209\n"
     ]
    }
   ],
   "source": [
    "#!/usr/bin/python\n",
    "#\n",
    "# Stolen from Ero Carrera\n",
    "# http://blog.dkbza.org/2007/05/scanning-data-for-entropy-anomalies.html\n",
    "\n",
    "import math, string, sys, fileinput\n",
    "\n",
    "def range_bytes (): return range(256)\n",
    "def range_printable(): return (ord(c) for c in string.printable)\n",
    "def H(data, iterator=range_bytes):\n",
    "    if not data:\n",
    "        return 0\n",
    "    entropy = 0\n",
    "    for x in iterator():\n",
    "        p_x = float(data.count(chr(x)))/len(data)\n",
    "\n",
    "        if p_x > 0:\n",
    "            entropy += - p_x*math.log(p_x, 2)\n",
    "    return entropy\n",
    "\n",
    "\n",
    "\n",
    "for str in ['gargleblaster',]:\n",
    "    print (\"%s: %f\" % (str, H(str, range_printable)))"
   ]
  },
  {
   "cell_type": "code",
   "execution_count": 60,
   "metadata": {},
   "outputs": [
    {
     "name": "stdout",
     "output_type": "stream",
     "text": [
      "a 2 0.153846153846\n",
      "b 1 0.0769230769231\n",
      "e 2 0.153846153846\n",
      "g 2 0.153846153846\n",
      "l 2 0.153846153846\n",
      "s 1 0.0769230769231\n",
      "r 2 0.153846153846\n",
      "t 1 0.0769230769231\n",
      "set(['a', 'b', 'e', 'g', 'l', 's', 'r', 't'])\n"
     ]
    },
    {
     "data": {
      "text/plain": [
       "2.931208948910323"
      ]
     },
     "execution_count": 60,
     "metadata": {},
     "output_type": "execute_result"
    }
   ],
   "source": [
    "ss = 'gargleblaster'\n",
    "\n",
    "ssit = {i for i in ss}\n",
    "\n",
    "n = len(ss)*1.\n",
    "entropy = 0\n",
    "\n",
    "for c in ssit:\n",
    "    \n",
    "    p_x = ss.count(c)*1./n\n",
    "    \n",
    "    if p_x > 0:\n",
    "\n",
    "        entropy += -(p_x)*math.log(p_x,2)\n",
    "    \n",
    "    print(\"{} {} {}\".format(c,ss.count(c),p_x))\n",
    "\n",
    "    \n",
    "#     entropy += - p_x*math.log(p_x, 2)\n",
    "\n",
    "print(ssit)\n",
    "entropy"
   ]
  },
  {
   "cell_type": "code",
   "execution_count": 58,
   "metadata": {},
   "outputs": [
    {
     "data": {
      "text/plain": [
       "1.0"
      ]
     },
     "execution_count": 58,
     "metadata": {},
     "output_type": "execute_result"
    }
   ],
   "source": [
    "n"
   ]
  },
  {
   "cell_type": "code",
   "execution_count": null,
   "metadata": {
    "collapsed": true
   },
   "outputs": [],
   "source": []
  }
 ],
 "metadata": {
  "kernelspec": {
   "display_name": "Python 2",
   "language": "python",
   "name": "python2"
  },
  "language_info": {
   "codemirror_mode": {
    "name": "ipython",
    "version": 2
   },
   "file_extension": ".py",
   "mimetype": "text/x-python",
   "name": "python",
   "nbconvert_exporter": "python",
   "pygments_lexer": "ipython2",
   "version": "2.7.12"
  }
 },
 "nbformat": 4,
 "nbformat_minor": 2
}

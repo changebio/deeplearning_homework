{
 "cells": [
  {
   "cell_type": "markdown",
   "metadata": {},
   "source": [
    "# XOR Gate 網路結構"
   ]
  },
  {
   "cell_type": "markdown",
   "metadata": {},
   "source": [
    "<img width='360x' src='http://www.thoughtly.co/blog/wp-content/uploads/2016/04/perceptron_bias-21.png'/>"
   ]
  },
  {
   "cell_type": "markdown",
   "metadata": {},
   "source": [
    "# 引用相關的 Library"
   ]
  },
  {
   "cell_type": "code",
   "execution_count": 1,
   "metadata": {
    "collapsed": true
   },
   "outputs": [],
   "source": [
    "import theano \n",
    "import theano.tensor as T\n",
    "import numpy as np\n",
    "import numpy"
   ]
  },
  {
   "cell_type": "code",
   "execution_count": 2,
   "metadata": {
    "collapsed": false
   },
   "outputs": [],
   "source": [
    "x = T.vector()\n",
    "w1 = theano.shared(np.random.randn(2))\n",
    "b1 = theano.shared(np.random.randn(1))\n",
    "\n",
    "w2 = theano.shared(np.random.randn(2))\n",
    "b2 = theano.shared(np.random.randn(1))\n",
    "\n",
    "w = theano.shared(np.random.randn(2))\n",
    "b = theano.shared(np.random.randn(1))\n",
    "\n",
    "z1 = T.dot(w1,x) + b1\n",
    "a1 = 1/(1+T.exp(-1*z1))\n",
    "\n",
    "z2 = T.dot(w2,x) + b2\n",
    "a2 = 1/(1+T.exp(-1*z2))\n",
    "\n",
    "\n",
    "z = T.dot(w,[a1,a2]) + b\n",
    "a = 1/(1+T.exp(-1*z))\n"
   ]
  },
  {
   "cell_type": "code",
   "execution_count": 3,
   "metadata": {
    "collapsed": false
   },
   "outputs": [],
   "source": [
    "# define xor's output function\n",
    "fa = theano.function(inputs=[x] ,outputs=a)"
   ]
  },
  {
   "cell_type": "code",
   "execution_count": 4,
   "metadata": {
    "collapsed": false
   },
   "outputs": [
    {
     "data": {
      "text/plain": [
       "array([ 0.36364409])"
      ]
     },
     "execution_count": 4,
     "metadata": {},
     "output_type": "execute_result"
    }
   ],
   "source": [
    "fa([1,1])"
   ]
  },
  {
   "cell_type": "code",
   "execution_count": 5,
   "metadata": {
    "collapsed": false
   },
   "outputs": [],
   "source": [
    "# 期望的 output 值\n",
    "y_hat = T.scalar()"
   ]
  },
  {
   "cell_type": "markdown",
   "metadata": {},
   "source": [
    "## cross entropy 且記得使用 T.sum() 將值變成 scalar\n",
    "* entropy 介紹\n",
    "    * http://nopaper.pixnet.net/blog/post/101760266-%5B%E8%B3%87%E8%A8%8A%5D-%E7%86%B5-entropy\n",
    "    * <img aligh='left' width='200px' src='http://pic.pimg.tw/nopaper/1395775650-2341432920.png' />\n",
    "\n",
    "* cross entropy 介紹 \n",
    "    * http://kuanchen-blog.logdown.com/posts/333763\n",
    "* 使用 cross entropy 來定義 預測值與期望值之間的落差，故將 cross-entropy error  的值視為 cost function ，白話的說－如果兩者之間的 entropy(cross entropy ) 越大，代表所學得 f(x) 產生的預測值跟期望值(training data)差距越大\n",
    "\n"
   ]
  },
  {
   "cell_type": "code",
   "execution_count": 6,
   "metadata": {
    "collapsed": true
   },
   "outputs": [],
   "source": [
    "cost = -1*(y_hat*T.log(a)+(1-y_hat)*T.log(1-a)).sum()"
   ]
  },
  {
   "cell_type": "code",
   "execution_count": 7,
   "metadata": {
    "collapsed": false
   },
   "outputs": [],
   "source": [
    "fcost = theano.function(inputs=[x,y_hat],outputs=cost )"
   ]
  },
  {
   "cell_type": "code",
   "execution_count": 8,
   "metadata": {
    "collapsed": false
   },
   "outputs": [
    {
     "data": {
      "text/plain": [
       "array(0.4519972715005039)"
      ]
     },
     "execution_count": 8,
     "metadata": {},
     "output_type": "execute_result"
    }
   ],
   "source": [
    "fcost([1,1],0)"
   ]
  },
  {
   "cell_type": "markdown",
   "metadata": {
    "collapsed": true
   },
   "source": [
    "## 使用 Theano 內建的 T.grad 來對每一個變數求得偏微分後的值 \n",
    "* http://deeplearning.net/software/theano/library/gradient.html#theano.gradient.grad"
   ]
  },
  {
   "cell_type": "code",
   "execution_count": 9,
   "metadata": {
    "collapsed": false
   },
   "outputs": [],
   "source": [
    "dw1,db1,dw2,db2,dw,db = T.grad(cost,[w1,b1,w2,b2,w,b]  )"
   ]
  },
  {
   "cell_type": "markdown",
   "metadata": {},
   "source": [
    "## 由於 Theano 沒有很好 update 變數的程式寫法，故通常會再自行定義 update function"
   ]
  },
  {
   "cell_type": "code",
   "execution_count": 10,
   "metadata": {
    "collapsed": false
   },
   "outputs": [
    {
     "name": "stdout",
     "output_type": "stream",
     "text": [
      "[(<TensorType(float64, vector)>, Elemwise{sub,no_inplace}.0)]\n"
     ]
    }
   ],
   "source": [
    "from itertools import izip\n",
    "def Myupdates(ps,gs):\n",
    "    r = 0.1\n",
    "    pu = [ (p,p-r*g) for p,g in izip(ps,gs)   ]\n",
    "    return pu\n",
    "print Myupdates([w,],[dw,]   )"
   ]
  },
  {
   "cell_type": "code",
   "execution_count": 11,
   "metadata": {
    "collapsed": false
   },
   "outputs": [],
   "source": [
    "g = theano.function(inputs=[x,y_hat],outputs=[cost,a]  ,  updates=Myupdates([w,b,w1,b1,w2,b2],[dw,db,dw1,db1,dw2,db2]   ) )"
   ]
  },
  {
   "cell_type": "markdown",
   "metadata": {},
   "source": [
    "## 開始進行 Training\n",
    "* 由於 XOR 只有4種不同組合的 input 及兩種 output，故 training set 如下"
   ]
  },
  {
   "cell_type": "code",
   "execution_count": 12,
   "metadata": {
    "collapsed": false
   },
   "outputs": [],
   "source": [
    "for i in range(100000):\n",
    "\n",
    "\n",
    "    g([0,1],1)\n",
    "    g([1,0],1)\n",
    "    g([0,0],0)\n",
    "    g([1,1],0)"
   ]
  },
  {
   "cell_type": "markdown",
   "metadata": {},
   "source": [
    "## 最後來看一下學習完的結果"
   ]
  },
  {
   "cell_type": "code",
   "execution_count": 13,
   "metadata": {
    "collapsed": false
   },
   "outputs": [
    {
     "name": "stdout",
     "output_type": "stream",
     "text": [
      "[array(0.00020638787401764517), array([ 0.99979363])]\n",
      "[array(0.00020646812521735717), array([ 0.99979355])]\n",
      "[array(0.000269387797377268), array([ 0.00026935])]\n",
      "[array(0.00024128309929592184), array([ 0.00024125])]\n"
     ]
    }
   ],
   "source": [
    "\n",
    "print    g([0,1],1)\n",
    "print    g([1,0],1)\n",
    "print    g([0,0],0)\n",
    "print    g([1,1],0)"
   ]
  },
  {
   "cell_type": "code",
   "execution_count": null,
   "metadata": {
    "collapsed": true
   },
   "outputs": [],
   "source": []
  }
 ],
 "metadata": {
  "kernelspec": {
   "display_name": "Python 2",
   "language": "python",
   "name": "python2"
  },
  "language_info": {
   "codemirror_mode": {
    "name": "ipython",
    "version": 2
   },
   "file_extension": ".py",
   "mimetype": "text/x-python",
   "name": "python",
   "nbconvert_exporter": "python",
   "pygments_lexer": "ipython2",
   "version": "2.7.10"
  }
 },
 "nbformat": 4,
 "nbformat_minor": 0
}

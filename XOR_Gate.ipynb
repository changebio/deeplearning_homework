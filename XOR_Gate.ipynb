{
 "cells": [
  {
   "cell_type": "markdown",
   "metadata": {},
   "source": [
    "# XOR Gate 網路結構"
   ]
  },
  {
   "cell_type": "markdown",
   "metadata": {},
   "source": [
    "<img width='360x' src='http://www.thoughtly.co/blog/wp-content/uploads/2016/04/perceptron_bias-21.png'/>"
   ]
  },
  {
   "cell_type": "markdown",
   "metadata": {},
   "source": [
    "# 引用相關的 Library"
   ]
  },
  {
   "cell_type": "code",
   "execution_count": 2,
   "metadata": {
    "collapsed": true
   },
   "outputs": [],
   "source": [
    "import theano \n",
    "import theano.tensor as T\n",
    "import numpy as np\n",
    "import numpy"
   ]
  },
  {
   "cell_type": "code",
   "execution_count": 4,
   "metadata": {
    "collapsed": false
   },
   "outputs": [],
   "source": [
    "x = T.vector()\n",
    "w1 = theano.shared(np.random.randn(2))\n",
    "b1 = theano.shared(np.random.randn(1))\n",
    "\n",
    "w2 = theano.shared(np.random.randn(2))\n",
    "b2 = theano.shared(np.random.randn(1))\n",
    "\n",
    "w = theano.shared(np.random.randn(2))\n",
    "b = theano.shared(np.random.randn(1))\n",
    "\n",
    "z1 = T.dot(w1,x) + b1\n",
    "a1 = 1/(1+T.exp(-1*z1))\n",
    "\n",
    "z2 = T.dot(w2,x) + b2\n",
    "a2 = 1/(1+T.exp(-1*z2))\n",
    "\n",
    "\n",
    "z = T.dot(w,[a1,a2]) + b\n",
    "a = 1/(1+T.exp(-1*z))\n"
   ]
  },
  {
   "cell_type": "code",
   "execution_count": 8,
   "metadata": {
    "collapsed": false
   },
   "outputs": [],
   "source": [
    "# define xor's output function\n",
    "fa = theano.function(inputs=[x] ,outputs=a)"
   ]
  },
  {
   "cell_type": "code",
   "execution_count": 9,
   "metadata": {
    "collapsed": false
   },
   "outputs": [
    {
     "data": {
      "text/plain": [
       "array([ 0.30460835])"
      ]
     },
     "execution_count": 9,
     "metadata": {},
     "output_type": "execute_result"
    }
   ],
   "source": [
    "fa([1,1])"
   ]
  },
  {
   "cell_type": "code",
   "execution_count": 10,
   "metadata": {
    "collapsed": false
   },
   "outputs": [],
   "source": [
    "# 期望的 output 值\n",
    "y_hat = T.scalar()"
   ]
  },
  {
   "cell_type": "markdown",
   "metadata": {},
   "source": [
    "## cross entropy 且記得使用 T.sum() 將值變成 scalar\n",
    "* entropy 介紹\n",
    "    * http://nopaper.pixnet.net/blog/post/101760266-%5B%E8%B3%87%E8%A8%8A%5D-%E7%86%B5-entropy\n",
    "    * <img aligh='left' width='200px' src='http://pic.pimg.tw/nopaper/1395775650-2341432920.png' />\n",
    "\n",
    "* cross entropy 介紹 \n",
    "    * http://kuanchen-blog.logdown.com/posts/333763\n",
    "* 使用 cross entropy 來定義 預測值與期望值之間的落差，故將 cross-entropy error  的值 ，白話的說－如果兩者之間的 entropy(cross entropy ) 越大\n",
    "\n"
   ]
  },
  {
   "cell_type": "code",
   "execution_count": 11,
   "metadata": {
    "collapsed": true
   },
   "outputs": [],
   "source": [
    "cost = -1*(y_hat*T.log(a)+(1-y_hat)*T.log(1-a)).sum()"
   ]
  },
  {
   "cell_type": "code",
   "execution_count": 33,
   "metadata": {
    "collapsed": false
   },
   "outputs": [],
   "source": [
    "fcost = theano.function(inputs=[x,y_hat],outputs=cost )"
   ]
  },
  {
   "cell_type": "code",
   "execution_count": 34,
   "metadata": {
    "collapsed": false
   },
   "outputs": [
    {
     "data": {
      "text/plain": [
       "array(0.0002799806375422289)"
      ]
     },
     "execution_count": 34,
     "metadata": {},
     "output_type": "execute_result"
    }
   ],
   "source": [
    "fcost([1,1],0)"
   ]
  },
  {
   "cell_type": "code",
   "execution_count": null,
   "metadata": {
    "collapsed": true
   },
   "outputs": [],
   "source": []
  },
  {
   "cell_type": "code",
   "execution_count": 35,
   "metadata": {
    "collapsed": false
   },
   "outputs": [],
   "source": [
    "dw1,db1,dw2,db2,dw,db = T.grad(cost,[w1,b1,w2,b2,w,b]  )"
   ]
  },
  {
   "cell_type": "code",
   "execution_count": 36,
   "metadata": {
    "collapsed": true
   },
   "outputs": [],
   "source": [
    "from itertools import izip\n",
    "def Myupdates(ps,gs):\n",
    "    r = 0.1\n",
    "    pu = [ (p,p-r*g) for p,g in izip(ps,gs)   ]\n",
    "    return pu"
   ]
  },
  {
   "cell_type": "code",
   "execution_count": 37,
   "metadata": {
    "collapsed": false
   },
   "outputs": [],
   "source": [
    "g = theano.function(inputs=[x,y_hat],outputs=[cost,a]  ,  updates=Myupdates([w,b,w1,b1,w2,b2],[dw,db,dw1,db1,dw2,db2]   ) )"
   ]
  },
  {
   "cell_type": "code",
   "execution_count": 38,
   "metadata": {
    "collapsed": false
   },
   "outputs": [],
   "source": [
    "for i in range(10000):\n",
    "\n",
    "\n",
    "    g([0,1],1)\n",
    "    g([1,0],1)\n",
    "    g([0,0],0)\n",
    "    g([1,1],0)"
   ]
  },
  {
   "cell_type": "code",
   "execution_count": 39,
   "metadata": {
    "collapsed": false
   },
   "outputs": [
    {
     "name": "stdout",
     "output_type": "stream",
     "text": [
      "[array(0.00038535271129934103), array([ 0.99961472])]\n",
      "[array(0.0002593452467034304), array([ 0.99974069])]\n",
      "[array(0.00027672393657137215), array([ 0.00027669])]\n",
      "[array(0.000244255268538311), array([ 0.00024423])]\n"
     ]
    }
   ],
   "source": [
    "\n",
    "print    g([0,1],1)\n",
    "print    g([1,0],1)\n",
    "print    g([0,0],0)\n",
    "print    g([1,1],0)"
   ]
  },
  {
   "cell_type": "code",
   "execution_count": null,
   "metadata": {
    "collapsed": true
   },
   "outputs": [],
   "source": []
  }
 ],
 "metadata": {
  "kernelspec": {
   "display_name": "Python 2",
   "language": "python",
   "name": "python2"
  },
  "language_info": {
   "codemirror_mode": {
    "name": "ipython",
    "version": 2
   },
   "file_extension": ".py",
   "mimetype": "text/x-python",
   "name": "python",
   "nbconvert_exporter": "python",
   "pygments_lexer": "ipython2",
   "version": "2.7.10"
  }
 },
 "nbformat": 4,
 "nbformat_minor": 0
}

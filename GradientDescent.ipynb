{
 "cells": [
  {
   "cell_type": "markdown",
   "metadata": {},
   "source": [
    "# 我們使用最基礎的 Gradient Descent 方法來找到 W,b , 用來預測 PokenMon 升級後的 CP 值\n",
    "* 主要的學習教材為台大電機系李弘毅教授的教材 : http://speech.ee.ntu.edu.tw/~tlkagk/courses/ML_2017/Lecture/Linear%20Regression.mp4\n",
    "* 這問題可以視為 Regression 問題 \n",
    "* Gradient Descent 的推導會使用到基礎的微分觀念，不了解的話可以參考 : http://www.amath.nchu.edu.tw/~tdoc/4_2.htm\n",
    "* 實驗資料可以從這裡下載 : https://www.openintro.org/stat/data/?data=pokemon"
   ]
  },
  {
   "cell_type": "markdown",
   "metadata": {},
   "source": [
    "# 最終推導的結果如下圖\n",
    "<img align=\"left\" width=\"30%\" src=\"./imgs/GradientDescent.png\" />"
   ]
  },
  {
   "cell_type": "code",
   "execution_count": 8,
   "metadata": {},
   "outputs": [
    {
     "data": {
      "image/png": "[encoded data removed]",
      "text/plain": [
       "<matplotlib.figure.Figure at 0x1073efa90>"
      ]
     },
     "metadata": {},
     "output_type": "display_data"
    }
   ],
   "source": [
    "import numpy as np\n",
    "\n",
    "import pandas as pd\n",
    "\n",
    "pd = pd.read_csv(\"./pokemon.csv\")\n",
    "newcp = np.array(pd['cp_new'])\n",
    "cp = np.array(pd['cp'])\n",
    "\n",
    "cp = cp[:50]\n",
    "newcp = newcp[:50]\n",
    "\n",
    "import matplotlib.pyplot as plt\n",
    "# plt.plot(newcp,cp)\n",
    "plt.scatter(cp, newcp)\n",
    "# plt.ylabel('some numbers')\n",
    "plt.show()"
   ]
  },
  {
   "cell_type": "code",
   "execution_count": 10,
   "metadata": {},
   "outputs": [
    {
     "name": "stdout",
     "output_type": "stream",
     "text": [
      "1.53915735236 1.00100018581 6332.67981018\n",
      "1.54676612957 0.255547913751 2755.70096847\n",
      "1.55018154466 -0.470664392405 2746.10029494\n",
      "1.55350874898 -1.17812063446 2737.01929158\n",
      "1.55675002078 -1.86730522991 2728.43068287\n",
      "1.55990757946 -2.53869008506 2720.30860413\n",
      "1.56298358709 -3.19273491819 2712.62852905\n",
      "1.56598014991 -3.82988757432 2705.36720094\n",
      "1.56889931976 -4.45058433187 2698.50256749\n",
      "1.5717430955 -5.05525020139 2692.01371893\n",
      "1.57451342434 -5.64429921656 2685.88082925\n",
      "1.57721220322 -6.21813471773 2680.08510051\n",
      "1.57984128006 -6.77714962808 2674.60871\n",
      "1.5824024551 -7.32172672265 2669.43476004\n",
      "1.58489748203 -7.85223889046 2664.54723042\n",
      "1.58732806929 -8.36904938985 2659.93093325\n",
      "1.58969588117 -8.87251209719 2655.5714701\n",
      "1.592002539 -9.36297174917 2651.4551914\n",
      "1.5942496222 -9.84076417892 2647.56915782\n",
      "1.59643866943 -10.3062165459 2643.90110376\n",
      "1.5985711796 -10.75964756 2640.43940255\n",
      "1.60064861291 -11.2013676996 2637.1730336\n",
      "1.60267239183 -11.6316794243 2634.09155113\n",
      "1.60464390212 -12.0508773821 2631.18505449\n",
      "1.60656449372 -12.4592486111 2628.44416011\n",
      "1.60843548173 -12.8570727357 2625.85997476\n",
      "1.61025814728 -13.2446221586 2623.42407027\n",
      "1.61203373839 -13.6221622472 2621.12845952\n",
      "1.61376347087 -13.9899515149 2618.96557365\n",
      "1.61544852913 -14.3482417986 2616.92824045\n",
      "1.61709006697 -14.6972784309 2615.00966386\n",
      "1.61868920841 -15.0373004081 2613.20340451\n",
      "1.62024704843 -15.368540554 2611.5033613\n",
      "1.62176465373 -15.6912256791 2609.90375388\n",
      "1.62324306346 -16.0055767359 2608.39910602\n",
      "1.62468328995 -16.3118089706 2606.9842299\n",
      "1.62608631935 -16.6101320699 2605.65421115\n",
      "1.62745311236 -16.900750305 2604.40439469\n",
      "1.62878460487 -17.1838626714 2603.23037124\n",
      "1.6300817086 -17.459663025 2602.12796465\n",
      "1.63134531171 -17.728340215 2601.0932197\n",
      "1.63257627943 -17.9900782129 2600.12239071\n",
      "1.63377545465 -18.2450562392 2599.21193063\n",
      "1.63494365847 -18.4934488851 2598.35848067\n",
      "1.6360816908 -18.735426233 2597.55886058\n",
      "1.6371903309 -18.9711539723 2596.81005931\n",
      "1.63827033787 -19.2007935133 2596.10922622\n",
      "1.63932245124 -19.4245020973 2595.45366272\n",
      "1.64034739141 -19.6424329045 2594.84081435\n",
      "1.6413458602 -19.8547351592 2594.26826324\n",
      "1.6423185413 -20.0615542312 2593.73372101\n",
      "1.64326610071 -20.2630317361 2593.23502199\n",
      "1.64418918728 -20.4593056318 2592.77011682\n",
      "1.64508843307 -20.6505103133 2592.33706635\n",
      "1.64596445381 -20.8367767044 2591.9340359\n",
      "1.64681784935 -21.0182323476 2591.55928975\n",
      "1.64764920403 -21.1950014911 2591.21118598\n",
      "1.64845908711 -21.3672051745 2590.88817157\n",
      "1.64924805314 -21.5349613109 2590.58877769\n",
      "1.65001664235 -21.6983847682 2590.31161529\n",
      "1.65076538101 -21.8575874477 2590.05537094\n",
      "1.65149478182 -22.0126783603 2589.81880282\n",
      "1.65220534422 -22.1637637018 2589.60073692\n",
      "1.65289755474 -22.3109469249 2589.40006355\n",
      "1.65357188738 -22.4543288106 2589.21573386\n",
      "1.65422880385 -22.5940075371 2589.04675668\n",
      "1.65486875399 -22.7300787467 2588.89219544\n",
      "1.65549217597 -22.8626356117 2588.75116532\n",
      "1.65609949668 -22.9917688979 2588.62283045\n",
      "1.65669113197 -23.1175670269 2588.50640138\n",
      "1.65726748695 -23.2401161366 2588.40113256\n",
      "1.65782895627 -23.3595001402 2588.30632005\n",
      "1.65837592438 -23.4758007839 2588.22129926\n",
      "1.65890876581 -23.5890977021 2588.14544291\n",
      "1.65942784542 -23.6994684729 2588.078159\n",
      "1.65993351862 -23.8069886707 2588.01888893\n",
      "1.66042613168 -23.9117319178 2587.96710572\n",
      "1.66090602191 -24.0137699353 2587.92231232\n",
      "1.66137351789 -24.1131725917 2587.88404\n",
      "1.66182893973 -24.2100079513 2587.85184684\n",
      "1.66227259928 -24.3043423202 2587.82531626\n",
      "1.66270480033 -24.3962402921 2587.80405569\n",
      "1.66312583882 -24.4857647925 2587.78769526\n",
      "1.66353600304 -24.5729771215 2587.77588656\n",
      "1.66393557385 -24.6579369962 2587.76830148\n",
      "1.66432482484 -24.7407025913 2587.76463116\n",
      "1.66470402256 -24.8213305791 2587.76458486\n",
      "1.66507342664 -24.8998761679 2587.76788904\n",
      "1.66543329003 -24.9763931404 2587.77428639\n",
      "1.66578385914 -25.0509338903 2587.78353497\n",
      "1.66612537401 -25.1235494578 2587.79540733\n",
      "1.6664580685 -25.1942895652 2587.80968974\n",
      "1.6667821704 -25.2632026504 2587.82618145\n",
      "1.66709790165 -25.3303359004 2587.84469395\n",
      "1.66740547842 -25.3957352834 2587.86505028\n",
      "1.66770511134 -25.4594455804 2587.88708444\n",
      "1.66799700556 -25.5215104159 2587.91064073\n",
      "1.66828136096 -25.5819722877 2587.93557323\n",
      "1.66855837224 -25.6408725957 2587.96174519\n",
      "1.66882822908 -25.698251671 2587.98902858\n"
     ]
    }
   ],
   "source": [
    "w = 1\n",
    "b = 1\n",
    "n = len(cp)\n",
    "r= 0.000001\n",
    "for i in range(100000):\n",
    "    dw = 0 \n",
    "    db = 0\n",
    "    error = 0\n",
    "    for x , y in zip(cp,newcp):\n",
    "        \n",
    "        # 加上 2*w 是考量到 Regularization\n",
    "        dw = -2*x*(y- (w*x+b)) + 2*w\n",
    "        db = -2*(y- (w*x+b))\n",
    "    #     print dw,db\n",
    "        y_head = w*x + b\n",
    "\n",
    "        w = w - dw*r \n",
    "        b = b - db*r\n",
    "\n",
    "        error  +=(y_head-y)*(y_head-y)\n",
    "    if i % 1000 ==0 :\n",
    "        print w,b,error/n"
   ]
  },
  {
   "cell_type": "code",
   "execution_count": 11,
   "metadata": {},
   "outputs": [
    {
     "data": {
      "image/png": "[encoded data removed]",
      "text/plain": [
       "<matplotlib.figure.Figure at 0x108214190>"
      ]
     },
     "metadata": {},
     "output_type": "display_data"
    }
   ],
   "source": [
    "y_head = []\n",
    "for x in cp :\n",
    "    predict = w*x +b\n",
    "    y_head.append(predict)\n",
    "    \n",
    "plt.scatter(y_head, newcp)\n",
    "plt.show()"
   ]
  },
  {
   "cell_type": "code",
   "execution_count": 12,
   "metadata": {},
   "outputs": [
    {
     "data": {
      "text/plain": [
       "[(615.17679537701042, 694),\n",
       " (585.13315995466291, 669),\n",
       " (563.43497881630105, 659),\n",
       " (538.3986159643448, 640),\n",
       " (378.16589371182533, 457),\n",
       " (189.55862689375556, 243),\n",
       " (-9.0631850650967181, 15),\n",
       " (15.973177786859452, 47),\n",
       " (14.304086930062368, 47),\n",
       " (242.96953431126207, 305),\n",
       " (164.52226404179939, 213),\n",
       " (530.05316168035938, 633),\n",
       " (194.56589946414678, 247),\n",
       " (74.391357774757182, 113),\n",
       " (44.347722352409775, 79),\n",
       " (126.13317433546661, 173),\n",
       " (206.24953546172634, 265),\n",
       " (525.04588910996813, 624),\n",
       " (521.70770739637396, 619),\n",
       " (268.00589716321821, 327),\n",
       " (136.14771947624905, 181),\n",
       " (97.758629769916269, 141),\n",
       " (186.22044518016139, 241),\n",
       " (104.43499319710457, 146),\n",
       " (374.82771199823122, 448),\n",
       " (434.91498284292601, 530),\n",
       " (319.74771372392763, 393),\n",
       " (268.00589716321821, 335),\n",
       " (501.67861711480913, 594),\n",
       " (483.31861769004126, 567),\n",
       " (481.64952683324418, 579),\n",
       " (378.16589371182533, 459),\n",
       " (391.518620566202, 471),\n",
       " (351.46044000307211, 428),\n",
       " (341.44589486228966, 418),\n",
       " (283.0277148743919, 354),\n",
       " (44.347722352409775, 80),\n",
       " (548.4131611051273, 647),\n",
       " (154.50771890101691, 205),\n",
       " (256.32226116563868, 185),\n",
       " (-0.71773078111132804, 16),\n",
       " (15.973177786859452, 27),\n",
       " (344.78407657588377, 245),\n",
       " (393.18771142299909, 272),\n",
       " (206.24953546172634, 151),\n",
       " (49.354994922801012, 49),\n",
       " (189.55862689375556, 140),\n",
       " (308.0640777263481, 217),\n",
       " (273.01316973360946, 193),\n",
       " (147.83135547382861, 113)]"
      ]
     },
     "execution_count": 12,
     "metadata": {},
     "output_type": "execute_result"
    }
   ],
   "source": [
    "zip(y_head,newcp)"
   ]
  },
  {
   "cell_type": "code",
   "execution_count": null,
   "metadata": {
    "collapsed": true
   },
   "outputs": [],
   "source": []
  }
 ],
 "metadata": {
  "kernelspec": {
   "display_name": "Python 2",
   "language": "python",
   "name": "python2"
  },
  "language_info": {
   "codemirror_mode": {
    "name": "ipython",
    "version": 2
   },
   "file_extension": ".py",
   "mimetype": "text/x-python",
   "name": "python",
   "nbconvert_exporter": "python",
   "pygments_lexer": "ipython2",
   "version": "2.7.13"
  }
 },
 "nbformat": 4,
 "nbformat_minor": 2
}

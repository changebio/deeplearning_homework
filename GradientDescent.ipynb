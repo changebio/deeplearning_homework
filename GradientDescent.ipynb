{
 "cells": [
  {
   "cell_type": "markdown",
   "metadata": {},
   "source": [
    "# 我們使用最基礎的 Gradient Descent 方法來找到 W,b , 用來預測 PokenMon 升級後的 CP 值\n",
    "* 主要的學習教材為台大電機系李弘毅教授的教材 : http://speech.ee.ntu.edu.tw/~tlkagk/courses/ML_2017/Lecture/Linear%20Regression.mp4\n",
    "* 這問題可以視為 Regression 問題 \n",
    "* Gradient Descent 的推導會使用到基礎的微分觀念，不了解的話可以參考 : http://www.amath.nchu.edu.tw/~tdoc/4_2.htm"
   ]
  },
  {
   "cell_type": "markdown",
   "metadata": {},
   "source": [
    "# 最終推導的結果如下圖\n",
    "<img align=\"left\" width=\"30%\" src=\"./imgs/GradientDescent.png\" />"
   ]
  },
  {
   "cell_type": "code",
   "execution_count": 1,
   "metadata": {},
   "outputs": [
    {
     "data": {
      "image/png": "[encoded data removed]",
      "text/plain": [
       "<matplotlib.figure.Figure at 0x104c35310>"
      ]
     },
     "metadata": {},
     "output_type": "display_data"
    }
   ],
   "source": [
    "import numpy as np\n",
    "\n",
    "import pandas as pd\n",
    "\n",
    "pd = pd.read_csv(\"./pokemon.csv\")\n",
    "newcp = np.array(pd['cp_new'])\n",
    "cp = np.array(pd['cp'])\n",
    "\n",
    "cp = cp[:50]\n",
    "newcp = newcp[:50]\n",
    "\n",
    "import matplotlib.pyplot as plt\n",
    "# plt.plot(newcp,cp)\n",
    "plt.scatter(cp, newcp)\n",
    "# plt.ylabel('some numbers')\n",
    "plt.show()"
   ]
  },
  {
   "cell_type": "code",
   "execution_count": 2,
   "metadata": {},
   "outputs": [
    {
     "name": "stdout",
     "output_type": "stream",
     "text": [
      "1.53920699415 1.00099964784 6332.78374466\n",
      "1.54682009246 0.254825391072 2755.72495494\n",
      "1.55023890838 -0.472091446623 2746.11555914\n",
      "1.55356943116 -1.18023518418 2737.02657222\n",
      "1.55681394102 -1.87009064912 2728.43067431\n",
      "1.55997465931 -2.54213014799 2720.30195873\n",
      "1.56305374998 -3.19681378968 2712.61585948\n",
      "1.56605332114 -3.83458980051 2705.34908231\n",
      "1.56897542643 -4.45589483103 2698.4795394\n",
      "1.57182206644 -5.06115425503 2691.9862874\n",
      "1.57459519012 -5.65078246073 2685.84946856\n",
      "1.57729669608 -6.22518313451 2680.05025494\n",
      "1.5799284339 -6.78474953729 2674.57079545\n",
      "1.58249220537 -7.32986477376 2669.39416564\n",
      "1.58498976577 -7.86090205469 2664.50431998\n",
      "1.58742282506 -8.37822495245 2659.88604668\n",
      "1.589793049 -8.88218764989 2655.52492474\n",
      "1.59210206037 -9.37313518288 2651.40728326\n",
      "1.59435144002 -9.85140367651 2647.52016283\n",
      "1.59654272798 -10.3173205752 2643.85127883\n",
      "1.5986774245 -10.771204867 2640.38898672\n",
      "1.6007569911 -11.2133673017 2637.12224901\n",
      "1.60278285153 -11.6441106039 2634.04060397\n",
      "1.6047563928 -12.0637296802 2631.13413597\n",
      "1.60667896609 -12.4725118209 2628.39344728\n",
      "1.60855188766 -12.8707368969 2625.80963134\n",
      "1.61037643982 -13.2586775514 2623.37424744\n",
      "1.61215387174 -13.6365993861 2621.07929664\n",
      "1.61388540032 -14.0047611436 2618.91719894\n",
      "1.61557221105 -14.3634148843 2616.88077168\n",
      "1.61721545879 -14.7128061589 2614.96320894\n",
      "1.61881626859 -15.0531741765 2613.15806213\n",
      "1.62037573644 -15.3847519687 2611.45922143\n",
      "1.62189493001 -15.7077665487 2609.86089832\n",
      "1.62337488943 -16.0224390671 2608.35760891\n",
      "1.62481662793 -16.3289849631 2606.94415819\n",
      "1.62622113259 -16.6276141119 2605.61562502\n",
      "1.62758936501 -16.9185309687 2604.367348\n",
      "1.62892226193 -17.2019347085 2603.19491193\n",
      "1.63022073593 -17.4780193623 2602.09413508\n",
      "1.63148567599 -17.7469739504 2601.06105705\n",
      "1.63271794815 -18.0089826113 2600.09192731\n",
      "1.63391839608 -18.2642247282 2599.18319423\n",
      "1.63508784166 -18.5128750513 2598.33149481\n",
      "1.63622708555 -18.7551038182 2597.53364483\n",
      "1.63733690773 -18.9910768695 2596.78662955\n",
      "1.63841806802 -19.2209557634 2596.08759488\n",
      "1.63947130665 -19.4448978853 2595.43383904\n",
      "1.6404973447 -19.6630565562 2594.82280458\n",
      "1.64149688466 -19.8755811376 2594.25207087\n",
      "1.64247061084 -20.0826171334 2593.71934697\n",
      "1.64341918992 -20.28430629 2593.22246482\n",
      "1.64434327132 -20.4807866929 2592.75937287\n",
      "1.64524348772 -20.6721928616 2592.32812994\n",
      "1.64612045544 -20.8586558415 2591.92689945\n",
      "1.6469747749 -21.0403032937 2591.55394398\n",
      "1.64780703101 -21.2172595823 2591.20762001\n",
      "1.64861779356 -21.3896458596 2590.88637307\n",
      "1.64940761764 -21.5575801492 2590.58873297\n",
      "1.650177044 -21.7211774265 2590.31330948\n",
      "1.65092659943 -21.8805496978 2590.05878804\n",
      "1.65165679709 -22.0358060764 2589.82392581\n",
      "1.65236813693 -22.1870528581 2589.60754791\n",
      "1.65306110596 -22.3343935933 2589.40854378\n",
      "1.65373617861 -22.4779291582 2589.22586386\n",
      "1.65439381706 -22.6177578238 2589.05851632\n",
      "1.65503447158 -22.7539753231 2588.905564\n",
      "1.65565858078 -22.8866749169 2588.76612157\n",
      "1.65626657195 -23.0159474574 2588.63935272\n",
      "1.65685886135 -23.1418814504 2588.52446759\n",
      "1.6574358545 -23.2645631162 2588.42072032\n",
      "1.65799794642 -23.3840764482 2588.32740668\n",
      "1.65854552195 -23.5005032706 2588.24386186\n",
      "1.65907895599 -23.6139232946 2588.16945838\n",
      "1.65959861375 -23.7244141727 2588.10360411\n",
      "1.66010485101 -23.832051552 2588.04574035\n",
      "1.66059801436 -23.936909126 2587.99534005\n",
      "1.66107844144 -24.0390586849 2587.95190614\n",
      "1.66154646119 -24.1385701651 2587.91496989\n",
      "1.66200239402 -24.2355116965 2587.88408941\n",
      "1.66244655209 -24.3299496499 2587.85884819\n",
      "1.66287923949 -24.4219486816 2587.83885373\n",
      "1.66330075245 -24.5115717786 2587.82373627\n",
      "1.66371137957 -24.5988803007 2587.81314753\n",
      "1.66411140197 -24.6839340235 2587.80675956\n",
      "1.66450109354 -24.7667911786 2587.80426365\n",
      "1.66488072107 -24.8475084937 2587.80536926\n",
      "1.66525054447 -24.9261412317 2587.80980305\n",
      "1.66561081694 -25.0027432281 2587.81730791\n",
      "1.66596178514 -25.0773669281 2587.82764213\n",
      "1.66630368936 -25.1500634226 2587.84057849\n",
      "1.66663676368 -25.2208824827 2587.85590353\n",
      "1.66696123613 -25.2898725946 2587.87341672\n",
      "1.66727732888 -25.357080992 2587.89292983\n",
      "1.66758525832 -25.4225536887 2587.91426618\n",
      "1.66788523529 -25.4863355106 2587.93726003\n",
      "1.66817746516 -25.5484701253 2587.96175598\n",
      "1.668462148 -25.6090000733 2587.98760837\n",
      "1.66873947872 -25.6679667959 2588.01468076\n",
      "1.66900964719 -25.7254106646 2588.04284541\n"
     ]
    }
   ],
   "source": [
    "w = 1\n",
    "b = 1\n",
    "n = len(cp)\n",
    "r= 0.000001\n",
    "for i in range(100000):\n",
    "    dw = 0 \n",
    "    db = 0\n",
    "    error = 0\n",
    "    for x , y in zip(cp,newcp):\n",
    "        dw = -2*x*(y- (w*x+b))\n",
    "        db = -2*(y- (w*x+b))\n",
    "    #     print dw,db\n",
    "        y_head = w*x + b\n",
    "\n",
    "        w = w - dw*r \n",
    "        b = b - db*r\n",
    "\n",
    "        error  +=(y_head-y)*(y_head-y)\n",
    "    if i % 1000 ==0 :\n",
    "        print w,b,error/n"
   ]
  },
  {
   "cell_type": "code",
   "execution_count": 3,
   "metadata": {},
   "outputs": [
    {
     "data": {
      "image/png": "[encoded data removed]",
      "text/plain": [
       "<matplotlib.figure.Figure at 0x1043dec50>"
      ]
     },
     "metadata": {},
     "output_type": "display_data"
    }
   ],
   "source": [
    "y_head = []\n",
    "for x in cp :\n",
    "    predict = w*x +b\n",
    "    y_head.append(predict)\n",
    "    \n",
    "plt.scatter(y_head, newcp)\n",
    "plt.show()"
   ]
  },
  {
   "cell_type": "code",
   "execution_count": 4,
   "metadata": {},
   "outputs": [
    {
     "data": {
      "text/plain": [
       "[(615.21935441542075, 694),\n",
       " (585.1724480002033, 669),\n",
       " (563.47190447810181, 659),\n",
       " (538.43281579875395, 640),\n",
       " (378.18264825092751, 457),\n",
       " (189.55484686650667, 243),\n",
       " (-9.0885899896532614, 15),\n",
       " (15.950498689694626, 47),\n",
       " (14.281226111071433, 47),\n",
       " (242.97156938244885, 305),\n",
       " (164.51575818715878, 213),\n",
       " (530.086452905638, 633),\n",
       " (194.56266460237626, 247),\n",
       " (74.375038941506375, 113),\n",
       " (44.328132526288911, 79),\n",
       " (126.12248887882535, 173),\n",
       " (206.2475726527386, 265),\n",
       " (525.0786351697684, 624),\n",
       " (521.74009001252205, 619),\n",
       " (268.01065806179679, 327),\n",
       " (136.13812435056451, 181),\n",
       " (97.74485504223108, 141),\n",
       " (186.21630170926031, 241),\n",
       " (104.42194535672385, 146),\n",
       " (374.84410309368104, 448),\n",
       " (434.93791592411606, 530),\n",
       " (319.75810799911574, 393),\n",
       " (268.01065806179679, 335),\n",
       " (501.70881906904367, 594),\n",
       " (483.34682070418864, 567),\n",
       " (481.67754812556541, 579),\n",
       " (378.18264825092751, 459),\n",
       " (391.53682887991306, 471),\n",
       " (351.47428699295642, 428),\n",
       " (341.45865152121723, 418),\n",
       " (283.03411126940546, 354),\n",
       " (44.328132526288911, 80),\n",
       " (548.44845127049314, 647),\n",
       " (154.50012271541962, 205),\n",
       " (256.32575001143437, 185),\n",
       " (-0.74222709653729879, 16),\n",
       " (15.950498689694626, 27),\n",
       " (344.79719667846359, 245),\n",
       " (393.20610145853618, 272),\n",
       " (206.2475726527386, 151),\n",
       " (49.335950262158491, 49),\n",
       " (189.55484686650667, 140),\n",
       " (308.07319994875331, 217),\n",
       " (273.01847579766627, 193),\n",
       " (147.82303240092685, 113)]"
      ]
     },
     "execution_count": 4,
     "metadata": {},
     "output_type": "execute_result"
    }
   ],
   "source": [
    "zip(y_head,newcp)"
   ]
  },
  {
   "cell_type": "code",
   "execution_count": null,
   "metadata": {
    "collapsed": true
   },
   "outputs": [],
   "source": []
  }
 ],
 "metadata": {
  "kernelspec": {
   "display_name": "Python 2",
   "language": "python",
   "name": "python2"
  },
  "language_info": {
   "codemirror_mode": {
    "name": "ipython",
    "version": 2
   },
   "file_extension": ".py",
   "mimetype": "text/x-python",
   "name": "python",
   "nbconvert_exporter": "python",
   "pygments_lexer": "ipython2",
   "version": "2.7.13"
  }
 },
 "nbformat": 4,
 "nbformat_minor": 2
}

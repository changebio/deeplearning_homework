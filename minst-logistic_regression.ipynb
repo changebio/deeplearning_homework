{
 "cells": [
  {
   "cell_type": "code",
   "execution_count": 3,
   "metadata": {
    "collapsed": true
   },
   "outputs": [],
   "source": [
    "import tensorflow as tf\n",
    "import matplotlib.pyplot as plt\n",
    "import matplotlib.cm as cm\n",
    "import matplotlib\n",
    "%matplotlib inline\n",
    "import input_data\n",
    "import numpy"
   ]
  },
  {
   "cell_type": "code",
   "execution_count": 4,
   "metadata": {
    "collapsed": false
   },
   "outputs": [],
   "source": [
    "import sys\n",
    "import input_data\n",
    "mnist = input_data.read_data_sets(\"/tmp/data/\", one_hot=True)"
   ]
  },
  {
   "cell_type": "markdown",
   "metadata": {},
   "source": [
    "* 定義 Input 及 Output 暫存變數\n",
    "* Input 為 28x28 的點陣圖素\n",
    "* Output 為 10 個 Label Array ，分別代表著 0~9 的預測值"
   ]
  },
  {
   "cell_type": "code",
   "execution_count": 7,
   "metadata": {
    "collapsed": false
   },
   "outputs": [],
   "source": [
    "x = tf.placeholder(tf.float32,shape=[None,28*28])\n",
    "y = tf.placeholder(tf.float32,shape=[None,10])"
   ]
  },
  {
   "cell_type": "code",
   "execution_count": 22,
   "metadata": {
    "collapsed": true
   },
   "outputs": [],
   "source": [
    "# Create model\n",
    "\n",
    "# Set model weights\n",
    "W = tf.Variable(tf.zeros([784, 10]))\n",
    "b = tf.Variable(tf.zeros([10]))\n",
    "\n",
    "xw = tf.matmul(x, W)\n",
    "r = xw + b\n",
    "a = tf.nn.softmax(r)"
   ]
  },
  {
   "cell_type": "markdown",
   "metadata": {},
   "source": [
    "* Cost Functoin 請參考 : http://ufldl.stanford.edu/tutorial/supervised/SoftmaxRegression/"
   ]
  },
  {
   "cell_type": "code",
   "execution_count": 33,
   "metadata": {
    "collapsed": true
   },
   "outputs": [],
   "source": [
    "cost = -tf.reduce_sum(y*tf.log(a))"
   ]
  },
  {
   "cell_type": "code",
   "execution_count": 34,
   "metadata": {
    "collapsed": false
   },
   "outputs": [],
   "source": [
    "op = tf.train.GradientDescentOptimizer(0.01).minimize(cost)"
   ]
  },
  {
   "cell_type": "markdown",
   "metadata": {},
   "source": [
    "# 以下進行開始進行實際運算"
   ]
  },
  {
   "cell_type": "code",
   "execution_count": 35,
   "metadata": {
    "collapsed": true
   },
   "outputs": [],
   "source": [
    "init = tf.initialize_all_variables()"
   ]
  },
  {
   "cell_type": "code",
   "execution_count": 36,
   "metadata": {
    "collapsed": true
   },
   "outputs": [],
   "source": [
    "sess = tf.Session()"
   ]
  },
  {
   "cell_type": "code",
   "execution_count": 37,
   "metadata": {
    "collapsed": true
   },
   "outputs": [],
   "source": [
    "sess.run(init)"
   ]
  },
  {
   "cell_type": "code",
   "execution_count": 38,
   "metadata": {
    "collapsed": false
   },
   "outputs": [
    {
     "name": "stdout",
     "output_type": "stream",
     "text": [
      "avg_cost: 1.53818847656\n",
      "avg_cost: 4.20006500244\n",
      "avg_cost: 3.53161804199\n",
      "avg_cost: 5.75972351074\n",
      "avg_cost: 6.60235961914\n",
      "avg_cost: 5.1791998291\n",
      "avg_cost: 5.26221313477\n",
      "avg_cost: 1.79604919434\n",
      "avg_cost: 2.81106994629\n",
      "avg_cost: 1.26635177612\n",
      "avg_cost: 0.970408935547\n",
      "avg_cost: 2.00831665039\n",
      "avg_cost: 1.75061691284\n",
      "avg_cost: 2.19973968506\n",
      "avg_cost: 1.0637865448\n",
      "avg_cost: 0.93669631958\n",
      "avg_cost: 1.28613098145\n",
      "avg_cost: 0.47118812561\n",
      "avg_cost: 0.464879074097\n",
      "avg_cost: 0.662971420288\n",
      "avg_cost: 0.668267059326\n",
      "avg_cost: 0.584128265381\n",
      "avg_cost: 0.624622650146\n",
      "avg_cost: 1.04467071533\n",
      "avg_cost: 1.78894287109\n",
      "avg_cost: 0.916661224365\n",
      "avg_cost: 0.863260498047\n",
      "avg_cost: 1.38139678955\n",
      "avg_cost: 0.785594482422\n",
      "avg_cost: 0.40527130127\n",
      "avg_cost: 0.748572311401\n",
      "avg_cost: 1.42575210571\n",
      "avg_cost: 0.672653656006\n",
      "avg_cost: 0.317291584015\n",
      "avg_cost: 0.412251815796\n",
      "avg_cost: 0.291154708862\n",
      "avg_cost: 0.362015991211\n",
      "avg_cost: 0.316969490051\n",
      "avg_cost: 0.463984222412\n",
      "avg_cost: 0.530088119507\n",
      "avg_cost: 0.25291891098\n",
      "avg_cost: 0.390248565674\n",
      "avg_cost: 0.436983985901\n",
      "avg_cost: 0.827095031738\n",
      "avg_cost: 0.544939117432\n",
      "avg_cost: 0.449331207275\n",
      "avg_cost: 0.708355407715\n",
      "avg_cost: 0.494112892151\n",
      "avg_cost: 0.382871055603\n",
      "avg_cost: 0.369703903198\n",
      "avg_cost: 0.33285484314\n",
      "avg_cost: 0.377543029785\n",
      "avg_cost: 0.329020233154\n",
      "avg_cost: 0.365044708252\n",
      "avg_cost: 0.286311912537\n",
      "avg_cost: 0.258263244629\n",
      "avg_cost: 0.61345123291\n",
      "avg_cost: 0.575455703735\n",
      "avg_cost: 0.4953490448\n",
      "avg_cost: 0.390891075134\n",
      "avg_cost: 0.308500938416\n",
      "avg_cost: 0.301270771027\n",
      "avg_cost: 0.299105205536\n",
      "avg_cost: 0.257990455627\n",
      "avg_cost: 0.343915176392\n",
      "avg_cost: 0.51428276062\n",
      "avg_cost: 1.20363868713\n",
      "avg_cost: 0.698873672485\n",
      "avg_cost: 0.426701049805\n",
      "avg_cost: 0.70049041748\n",
      "avg_cost: 0.331801528931\n",
      "avg_cost: 0.363929672241\n",
      "avg_cost: 0.415712966919\n",
      "avg_cost: 0.529532318115\n",
      "avg_cost: 0.330678100586\n",
      "avg_cost: 0.571112785339\n",
      "avg_cost: 0.611205291748\n",
      "avg_cost: 0.416135940552\n",
      "avg_cost: 0.585308380127\n",
      "avg_cost: 0.455072631836\n",
      "avg_cost: 0.239188995361\n",
      "avg_cost: 0.294139823914\n",
      "avg_cost: 0.327356185913\n",
      "avg_cost: 0.340790977478\n",
      "avg_cost: 0.271427326202\n",
      "avg_cost: 0.264783706665\n",
      "avg_cost: 0.332580070496\n",
      "avg_cost: 0.343216705322\n",
      "avg_cost: 0.56881401062\n",
      "avg_cost: 0.319203109741\n",
      "avg_cost: 0.40915096283\n",
      "avg_cost: 0.48857170105\n",
      "avg_cost: 0.439623680115\n",
      "avg_cost: 0.351910400391\n",
      "avg_cost: 0.363420562744\n",
      "avg_cost: 0.192328529358\n",
      "avg_cost: 0.349356040955\n",
      "avg_cost: 0.190961685181\n",
      "avg_cost: 0.367852096558\n",
      "avg_cost: 0.541251602173\n"
     ]
    }
   ],
   "source": [
    "epochs = 100\n",
    "batch_size = 200\n",
    "for _ in range(100):\n",
    "    avg_cost = 0\n",
    "    input_x , output_y = mnist.train.next_batch(batch_size)\n",
    "    sess.run(op,feed_dict={x:input_x,\n",
    "                       y:output_y  })\n",
    "    avg_cost += sess.run(cost,feed_dict={x:input_x,\n",
    "                       y:output_y  })\n",
    "    \n",
    "    print \"avg_cost:\" ,avg_cost/batch_size\n",
    "    \n",
    "    \n"
   ]
  },
  {
   "cell_type": "code",
   "execution_count": 39,
   "metadata": {
    "collapsed": false
   },
   "outputs": [],
   "source": [
    "predict = tf.argmax(a, 1)\n",
    "# sess.run(predict,feed_dict={x:mnist.test.images})\n",
    "\n",
    "ans = tf.argmax(y,1)\n",
    "# sess.run(ans, feed_dict= {y:mnist.test.labels})\n",
    "\n",
    "preccision = sess.run(tf.reduce_mean(tf.cast(tf.equal(predict,ans),\"float\")),feed_dict= {x:mnist.test.images,y:mnist.test.labels}  )"
   ]
  },
  {
   "cell_type": "code",
   "execution_count": 40,
   "metadata": {
    "collapsed": false
   },
   "outputs": [
    {
     "name": "stdout",
     "output_type": "stream",
     "text": [
      "0.8163\n"
     ]
    }
   ],
   "source": [
    "print preccision"
   ]
  },
  {
   "cell_type": "code",
   "execution_count": 43,
   "metadata": {
    "collapsed": false
   },
   "outputs": [
    {
     "data": {
      "image/png": "[encoded data removed]",
      "text/plain": [
       "<matplotlib.figure.Figure at 0x111875a50>"
      ]
     },
     "metadata": {},
     "output_type": "display_data"
    },
    {
     "name": "stdout",
     "output_type": "stream",
     "text": [
      "9\n"
     ]
    },
    {
     "data": {
      "image/png": "[encoded data removed]",
      "text/plain": [
       "<matplotlib.figure.Figure at 0x1124fb890>"
      ]
     },
     "metadata": {},
     "output_type": "display_data"
    },
    {
     "name": "stdout",
     "output_type": "stream",
     "text": [
      "6\n"
     ]
    },
    {
     "data": {
      "image/png": "[encoded data removed]",
      "text/plain": [
       "<matplotlib.figure.Figure at 0x1154724d0>"
      ]
     },
     "metadata": {},
     "output_type": "display_data"
    },
    {
     "name": "stdout",
     "output_type": "stream",
     "text": [
      "6\n"
     ]
    },
    {
     "data": {
      "image/png": "[encoded data removed]",
      "text/plain": [
       "<matplotlib.figure.Figure at 0x11559e410>"
      ]
     },
     "metadata": {},
     "output_type": "display_data"
    },
    {
     "name": "stdout",
     "output_type": "stream",
     "text": [
      "3\n"
     ]
    },
    {
     "data": {
      "image/png": "[encoded data removed]",
      "text/plain": [
       "<matplotlib.figure.Figure at 0x113160710>"
      ]
     },
     "metadata": {},
     "output_type": "display_data"
    },
    {
     "name": "stdout",
     "output_type": "stream",
     "text": [
      "2\n"
     ]
    }
   ],
   "source": [
    "import random\n",
    "\n",
    "for img in  list(map(lambda _: random.choice(mnist.train.images), range(5))): #mnist.train.images[50:55]:\n",
    "    tmp = img\n",
    "    tmp2 = tmp.reshape((28,28))\n",
    "\n",
    "    plt.imshow(tmp2, cmap = cm.Greys)\n",
    "    plt.show()\n",
    "    print sess.run(predict,feed_dict={x:[tmp]})[0]\n"
   ]
  },
  {
   "cell_type": "code",
   "execution_count": 79,
   "metadata": {
    "collapsed": false
   },
   "outputs": [
    {
     "name": "stdout",
     "output_type": "stream",
     "text": [
      "1\n"
     ]
    }
   ],
   "source": []
  },
  {
   "cell_type": "code",
   "execution_count": null,
   "metadata": {
    "collapsed": true
   },
   "outputs": [],
   "source": []
  }
 ],
 "metadata": {
  "kernelspec": {
   "display_name": "Python 2",
   "language": "python",
   "name": "python2"
  },
  "language_info": {
   "codemirror_mode": {
    "name": "ipython",
    "version": 2
   },
   "file_extension": ".py",
   "mimetype": "text/x-python",
   "name": "python",
   "nbconvert_exporter": "python",
   "pygments_lexer": "ipython2",
   "version": "2.7.10"
  }
 },
 "nbformat": 4,
 "nbformat_minor": 0
}
